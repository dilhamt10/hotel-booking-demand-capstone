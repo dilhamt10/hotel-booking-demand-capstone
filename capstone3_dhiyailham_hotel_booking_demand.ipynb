{
 "cells": [
  {
   "cell_type": "markdown",
   "id": "585692e5",
   "metadata": {},
   "source": [
    "# Business Understanding"
   ]
  },
  {
   "cell_type": "markdown",
   "id": "2ada3f0f",
   "metadata": {},
   "source": [
    "## Introduction\n",
    "\n",
    "In the hospitality industry, especially hotels, overbooking is a common strategy to handle booking cancellations. With the rise of online platforms, it has become easier for customers to make and cancel reservations.\n",
    "\n",
    "Booking cancellations can significantly impact hotel operations. While they can help maximize revenue through overbooking, they also pose a risk to the hotel’s reputation if not managed properly. Therefore, if hotels can predict cancellations in advance, they can better optimize their overbooking strategies and minimize potential risks."
   ]
  },
  {
   "cell_type": "markdown",
   "id": "d621f1a5",
   "metadata": {},
   "source": [
    "## Problem Statement\n",
    "\n",
    "Overbooking strategies work best when we can estimate how many bookings are likely to be canceled. If we underestimate cancellations, more rooms may end up empty and unused. But if we overestimate cancellations, we risk having too many guests and not enough rooms, which can lead to customer dissatisfaction due to overbooking.\n",
    "\n",
    "That’s why accurate cancellation prediction is key to balancing occupancy and guest satisfaction."
   ]
  },
  {
   "cell_type": "markdown",
   "id": "6785d643",
   "metadata": {},
   "source": [
    "## Project Goals\n",
    "\n",
    "Based on the problem statement, the goal is to accurately predict whether a booking will be canceled or not. This helps in making better decisions and supports the overbooking strategy.\n",
    "\n",
    "We may also discover certain booking characteristics that are strongly linked to cancellations, which can help identify which reservations are more likely to be canceled."
   ]
  },
  {
   "cell_type": "markdown",
   "id": "dc27cfde",
   "metadata": {},
   "source": [
    "## Analytical Approach\n",
    "\n",
    "Based on the problem statement, the goal is to accurately predict whether a booking will be canceled or not. This helps in making better decisions and supports the overbooking strategy.\n",
    "\n",
    "We may also discover certain booking characteristics that are strongly linked to cancellations, which can help identify which reservations are more likely to be canceled."
   ]
  },
  {
   "cell_type": "markdown",
   "id": "65147b98",
   "metadata": {},
   "source": [
    "## Evaluation Metrics\n",
    "\n",
    "Target (y):\n",
    "- 0 : Not Canceled\n",
    "- 1 : Canceled\n",
    "\n",
    "Confusion Matrix:\n",
    "\n",
    "| Actual/Predicted | Negative (0/Not Canceled) | Positive (1/Canceled) |\n",
    "| --- | --- | --- |\n",
    "| Negatif (0) | Actual not canceled, predicted not canceled (True Negative / TN)  | Actual not canceled, predicted canceled (False Positive / FP) |\n",
    "| Positive (1) | Actual canceled, predicted not canceled (False Negative / FN) | Actual canceled, predicted canceled (True Positive / TP) |\n",
    "\n",
    "\n",
    "False Negative (FN) : \n",
    "\n",
    "The model predicts a guest will show up, but they cancel.\n",
    "\n",
    "→ The room goes unbooked and empty, even though another guest could have stayed.\n",
    "\n",
    "False Positive (FP) : \n",
    "\n",
    "The model predicts a cancellation, but the guest actually shows up.\n",
    "\n",
    "→ The hotel becomes overbooked, risking customer dissatisfaction and damaging the hotel’s reputation, the guest may not return in the future."
   ]
  },
  {
   "cell_type": "markdown",
   "id": "b093c17b",
   "metadata": {},
   "source": [
    "This is the the research of overbooking and minimize cost strategies\n",
    "\n",
    "Source: https://oaky.com/en/blog/hotel-overbooking\n",
    "\n",
    "**Is overbooking a good practice for hotels [Pros and cons of hotel overbooking]**\n",
    "\n",
    "Pros of hotel overbooking:\n",
    "\n",
    "- Mitigates the risk of last-minute cancellations and no-shows\n",
    "- Maximises occupancy\n",
    "- Prevents revenue losses\n",
    "- Lets you stay competitive on OTAs\n",
    "\n",
    "Cons of hotel overbooking:\n",
    "\n",
    "- Lost revenue opportunities\n",
    "- Guest dissatisfaction and hotel reputational damage\n",
    "- Inefficiencies and disruptions in hotel operations\n",
    "\n"
   ]
  },
  {
   "cell_type": "markdown",
   "id": "d39db673",
   "metadata": {},
   "source": [
    "Both types of prediction errors can negatively affect hotel revenue. However, in my opinion, overbooking (False Positive) is more harmful than an empty room (False Negative). Overbooking may lead to long-term revenue loss because dissatisfied guests who experience poor service are less likely to return. This damages the hotel’s reputation, which is a major concern.\n",
    "\n",
    "While some might argue that overbooking is generally less costly than leaving rooms empty, in reality, overbooking often forces the hotel to cover extra costs, such as transportation or relocation to another hotel.\n",
    "\n",
    "Therefore, overall, I believe overbooked rooms are more damaging than empty rooms, although both should be minimized.\n",
    "To address this, I’ll use the F2 Score — a metric that still considers both precision and recall but places more weight on recall, which is more important in this case. I’ll also use ROC AUC Score as a secondary evaluation metric."
   ]
  },
  {
   "cell_type": "markdown",
   "id": "a95349f3",
   "metadata": {},
   "source": [
    "# Library & Read"
   ]
  },
  {
   "cell_type": "code",
   "execution_count": 2,
   "id": "77a96b6e",
   "metadata": {},
   "outputs": [],
   "source": [
    "import pandas as pd\n",
    "import numpy as np\n",
    "import seaborn as sns\n",
    "import matplotlib.pyplot as plt"
   ]
  },
  {
   "cell_type": "code",
   "execution_count": 3,
   "id": "4417b1a6",
   "metadata": {},
   "outputs": [
    {
     "name": "stdout",
     "output_type": "stream",
     "text": [
      "<class 'pandas.core.frame.DataFrame'>\n",
      "RangeIndex: 83573 entries, 0 to 83572\n",
      "Data columns (total 11 columns):\n",
      " #   Column                       Non-Null Count  Dtype \n",
      "---  ------                       --------------  ----- \n",
      " 0   country                      83222 non-null  object\n",
      " 1   market_segment               83573 non-null  object\n",
      " 2   previous_cancellations       83573 non-null  int64 \n",
      " 3   booking_changes              83573 non-null  int64 \n",
      " 4   deposit_type                 83573 non-null  object\n",
      " 5   days_in_waiting_list         83573 non-null  int64 \n",
      " 6   customer_type                83573 non-null  object\n",
      " 7   reserved_room_type           83573 non-null  object\n",
      " 8   required_car_parking_spaces  83573 non-null  int64 \n",
      " 9   total_of_special_requests    83573 non-null  int64 \n",
      " 10  is_canceled                  83573 non-null  int64 \n",
      "dtypes: int64(6), object(5)\n",
      "memory usage: 7.0+ MB\n"
     ]
    }
   ],
   "source": [
    "df = pd.read_csv('hotel_booking_demand.csv').copy()\n",
    "df.info()"
   ]
  },
  {
   "cell_type": "code",
   "execution_count": 4,
   "id": "b004f39b",
   "metadata": {},
   "outputs": [
    {
     "data": {
      "application/vnd.microsoft.datawrangler.viewer.v0+json": {
       "columns": [
        {
         "name": "index",
         "rawType": "int64",
         "type": "integer"
        },
        {
         "name": "country",
         "rawType": "object",
         "type": "unknown"
        },
        {
         "name": "market_segment",
         "rawType": "object",
         "type": "string"
        },
        {
         "name": "previous_cancellations",
         "rawType": "int64",
         "type": "integer"
        },
        {
         "name": "booking_changes",
         "rawType": "int64",
         "type": "integer"
        },
        {
         "name": "deposit_type",
         "rawType": "object",
         "type": "string"
        },
        {
         "name": "days_in_waiting_list",
         "rawType": "int64",
         "type": "integer"
        },
        {
         "name": "customer_type",
         "rawType": "object",
         "type": "string"
        },
        {
         "name": "reserved_room_type",
         "rawType": "object",
         "type": "string"
        },
        {
         "name": "required_car_parking_spaces",
         "rawType": "int64",
         "type": "integer"
        },
        {
         "name": "total_of_special_requests",
         "rawType": "int64",
         "type": "integer"
        },
        {
         "name": "is_canceled",
         "rawType": "int64",
         "type": "integer"
        }
       ],
       "ref": "91822f9f-4338-4272-bdac-f380bc1f2dd4",
       "rows": [
        [
         "0",
         "IRL",
         "Offline TA/TO",
         "0",
         "0",
         "No Deposit",
         "0",
         "Transient-Party",
         "A",
         "0",
         "0",
         "0"
        ],
        [
         "1",
         "FRA",
         "Online TA",
         "0",
         "0",
         "No Deposit",
         "0",
         "Transient",
         "A",
         "0",
         "2",
         "0"
        ],
        [
         "2",
         "PRT",
         "Online TA",
         "0",
         "1",
         "No Deposit",
         "0",
         "Transient",
         "A",
         "0",
         "2",
         "0"
        ],
        [
         "3",
         "NLD",
         "Online TA",
         "0",
         "0",
         "No Deposit",
         "0",
         "Transient",
         "A",
         "0",
         "1",
         "1"
        ],
        [
         "4",
         "PRT",
         "Online TA",
         "0",
         "2",
         "No Deposit",
         "0",
         "Transient",
         "A",
         "0",
         "2",
         "0"
        ],
        [
         "5",
         "ESP",
         "Direct",
         "0",
         "1",
         "No Deposit",
         "0",
         "Transient-Party",
         "A",
         "0",
         "1",
         "0"
        ],
        [
         "6",
         "PRT",
         "Groups",
         "0",
         "0",
         "Non Refund",
         "0",
         "Transient",
         "A",
         "0",
         "0",
         "1"
        ],
        [
         "7",
         "PRT",
         "Groups",
         "0",
         "0",
         "Non Refund",
         "0",
         "Transient",
         "A",
         "0",
         "0",
         "1"
        ],
        [
         "8",
         "UMI",
         "Online TA",
         "0",
         "0",
         "No Deposit",
         "0",
         "Transient",
         "E",
         "0",
         "1",
         "1"
        ],
        [
         "9",
         "PRT",
         "Groups",
         "1",
         "0",
         "Non Refund",
         "0",
         "Contract",
         "A",
         "0",
         "0",
         "1"
        ],
        [
         "10",
         "CN",
         "Groups",
         "0",
         "1",
         "No Deposit",
         "0",
         "Transient-Party",
         "A",
         "0",
         "1",
         "0"
        ],
        [
         "11",
         "PRT",
         "Online TA",
         "0",
         "0",
         "No Deposit",
         "0",
         "Transient",
         "A",
         "0",
         "1",
         "0"
        ],
        [
         "12",
         "PRT",
         "Groups",
         "1",
         "0",
         "Non Refund",
         "0",
         "Transient",
         "A",
         "0",
         "0",
         "1"
        ],
        [
         "13",
         "FRA",
         "Online TA",
         "0",
         "0",
         "No Deposit",
         "0",
         "Transient",
         "E",
         "0",
         "0",
         "1"
        ],
        [
         "14",
         "PRT",
         "Offline TA/TO",
         "0",
         "0",
         "Non Refund",
         "3",
         "Transient",
         "A",
         "0",
         "0",
         "1"
        ],
        [
         "15",
         "LUX",
         "Direct",
         "0",
         "0",
         "No Deposit",
         "0",
         "Transient",
         "D",
         "1",
         "0",
         "0"
        ],
        [
         "16",
         "BRA",
         "Offline TA/TO",
         "0",
         "1",
         "No Deposit",
         "0",
         "Transient-Party",
         "A",
         "0",
         "1",
         "0"
        ],
        [
         "17",
         "BEL",
         "Online TA",
         "0",
         "1",
         "No Deposit",
         "0",
         "Transient",
         "A",
         "0",
         "1",
         "0"
        ],
        [
         "18",
         "JPN",
         "Online TA",
         "0",
         "0",
         "No Deposit",
         "0",
         "Transient",
         "A",
         "0",
         "2",
         "0"
        ],
        [
         "19",
         "DEU",
         "Offline TA/TO",
         "0",
         "0",
         "No Deposit",
         "0",
         "Transient",
         "A",
         "0",
         "0",
         "0"
        ],
        [
         "20",
         "FRA",
         "Offline TA/TO",
         "0",
         "0",
         "No Deposit",
         "0",
         "Transient",
         "D",
         "0",
         "0",
         "0"
        ],
        [
         "21",
         "ITA",
         "Online TA",
         "0",
         "0",
         "No Deposit",
         "0",
         "Transient",
         "A",
         "0",
         "1",
         "1"
        ],
        [
         "22",
         "PRT",
         "Groups",
         "0",
         "0",
         "Non Refund",
         "0",
         "Transient",
         "A",
         "0",
         "0",
         "1"
        ],
        [
         "23",
         "PRT",
         "Offline TA/TO",
         "0",
         "0",
         "Non Refund",
         "39",
         "Transient",
         "A",
         "0",
         "0",
         "1"
        ],
        [
         "24",
         "PRT",
         "Groups",
         "0",
         "0",
         "No Deposit",
         "0",
         "Transient-Party",
         "A",
         "0",
         "0",
         "0"
        ],
        [
         "25",
         "ESP",
         "Offline TA/TO",
         "0",
         "1",
         "No Deposit",
         "0",
         "Transient",
         "A",
         "0",
         "1",
         "0"
        ],
        [
         "26",
         "ESP",
         "Offline TA/TO",
         "0",
         "0",
         "No Deposit",
         "0",
         "Transient",
         "D",
         "0",
         "0",
         "0"
        ],
        [
         "27",
         "PRT",
         "Offline TA/TO",
         "0",
         "0",
         "Non Refund",
         "0",
         "Transient",
         "A",
         "0",
         "0",
         "1"
        ],
        [
         "28",
         "CHE",
         "Online TA",
         "0",
         "2",
         "No Deposit",
         "0",
         "Transient",
         "A",
         "0",
         "2",
         "0"
        ],
        [
         "29",
         "PRT",
         "Online TA",
         "0",
         "0",
         "No Deposit",
         "0",
         "Transient",
         "A",
         "0",
         "1",
         "0"
        ],
        [
         "30",
         "GBR",
         "Groups",
         "0",
         "2",
         "No Deposit",
         "0",
         "Transient-Party",
         "A",
         "0",
         "0",
         "0"
        ],
        [
         "31",
         "ESP",
         "Online TA",
         "0",
         "0",
         "No Deposit",
         "0",
         "Transient",
         "A",
         "0",
         "2",
         "1"
        ],
        [
         "32",
         "PRT",
         "Offline TA/TO",
         "1",
         "0",
         "No Deposit",
         "0",
         "Transient",
         "A",
         "0",
         "0",
         "1"
        ],
        [
         "33",
         "PRT",
         "Direct",
         "0",
         "0",
         "No Deposit",
         "0",
         "Transient",
         "A",
         "0",
         "0",
         "0"
        ],
        [
         "34",
         "PRT",
         "Groups",
         "0",
         "0",
         "Non Refund",
         "0",
         "Transient",
         "A",
         "0",
         "0",
         "1"
        ],
        [
         "35",
         "BEL",
         "Online TA",
         "0",
         "0",
         "No Deposit",
         "0",
         "Transient",
         "A",
         "0",
         "2",
         "1"
        ],
        [
         "36",
         "PRT",
         "Offline TA/TO",
         "0",
         "0",
         "No Deposit",
         "0",
         "Transient-Party",
         "A",
         "0",
         "0",
         "1"
        ],
        [
         "37",
         "DEU",
         "Online TA",
         "0",
         "0",
         "No Deposit",
         "0",
         "Transient-Party",
         "A",
         "0",
         "2",
         "0"
        ],
        [
         "38",
         "AGO",
         "Online TA",
         "0",
         "0",
         "No Deposit",
         "0",
         "Transient",
         "F",
         "0",
         "1",
         "1"
        ],
        [
         "39",
         "PRT",
         "Corporate",
         "0",
         "1",
         "No Deposit",
         "0",
         "Transient-Party",
         "A",
         "0",
         "0",
         "0"
        ],
        [
         "40",
         "DEU",
         "Groups",
         "0",
         "0",
         "No Deposit",
         "0",
         "Transient-Party",
         "A",
         "0",
         "0",
         "0"
        ],
        [
         "41",
         "SRB",
         "Offline TA/TO",
         "0",
         "0",
         "No Deposit",
         "0",
         "Transient-Party",
         "A",
         "0",
         "0",
         "0"
        ],
        [
         "42",
         "PRT",
         "Complementary",
         "0",
         "0",
         "No Deposit",
         "0",
         "Transient",
         "B",
         "0",
         "1",
         "0"
        ],
        [
         "43",
         "PRT",
         "Online TA",
         "0",
         "0",
         "No Deposit",
         "0",
         "Transient",
         "A",
         "1",
         "2",
         "0"
        ],
        [
         "44",
         "PRT",
         "Groups",
         "0",
         "0",
         "Non Refund",
         "0",
         "Transient",
         "A",
         "0",
         "0",
         "1"
        ],
        [
         "45",
         "PRT",
         "Offline TA/TO",
         "0",
         "0",
         "No Deposit",
         "0",
         "Transient-Party",
         "A",
         "0",
         "0",
         "1"
        ],
        [
         "46",
         "FRA",
         "Online TA",
         "0",
         "0",
         "No Deposit",
         "0",
         "Transient",
         "A",
         "0",
         "0",
         "1"
        ],
        [
         "47",
         "PRT",
         "Offline TA/TO",
         "0",
         "0",
         "No Deposit",
         "0",
         "Transient-Party",
         "A",
         "0",
         "0",
         "1"
        ],
        [
         "48",
         "ESP",
         "Direct",
         "0",
         "0",
         "No Deposit",
         "0",
         "Transient",
         "E",
         "0",
         "2",
         "0"
        ],
        [
         "49",
         "FRA",
         "Offline TA/TO",
         "0",
         "0",
         "No Deposit",
         "0",
         "Transient",
         "A",
         "0",
         "0",
         "0"
        ]
       ],
       "shape": {
        "columns": 11,
        "rows": 83573
       }
      },
      "text/html": [
       "<div>\n",
       "<style scoped>\n",
       "    .dataframe tbody tr th:only-of-type {\n",
       "        vertical-align: middle;\n",
       "    }\n",
       "\n",
       "    .dataframe tbody tr th {\n",
       "        vertical-align: top;\n",
       "    }\n",
       "\n",
       "    .dataframe thead th {\n",
       "        text-align: right;\n",
       "    }\n",
       "</style>\n",
       "<table border=\"1\" class=\"dataframe\">\n",
       "  <thead>\n",
       "    <tr style=\"text-align: right;\">\n",
       "      <th></th>\n",
       "      <th>country</th>\n",
       "      <th>market_segment</th>\n",
       "      <th>previous_cancellations</th>\n",
       "      <th>booking_changes</th>\n",
       "      <th>deposit_type</th>\n",
       "      <th>days_in_waiting_list</th>\n",
       "      <th>customer_type</th>\n",
       "      <th>reserved_room_type</th>\n",
       "      <th>required_car_parking_spaces</th>\n",
       "      <th>total_of_special_requests</th>\n",
       "      <th>is_canceled</th>\n",
       "    </tr>\n",
       "  </thead>\n",
       "  <tbody>\n",
       "    <tr>\n",
       "      <th>0</th>\n",
       "      <td>IRL</td>\n",
       "      <td>Offline TA/TO</td>\n",
       "      <td>0</td>\n",
       "      <td>0</td>\n",
       "      <td>No Deposit</td>\n",
       "      <td>0</td>\n",
       "      <td>Transient-Party</td>\n",
       "      <td>A</td>\n",
       "      <td>0</td>\n",
       "      <td>0</td>\n",
       "      <td>0</td>\n",
       "    </tr>\n",
       "    <tr>\n",
       "      <th>1</th>\n",
       "      <td>FRA</td>\n",
       "      <td>Online TA</td>\n",
       "      <td>0</td>\n",
       "      <td>0</td>\n",
       "      <td>No Deposit</td>\n",
       "      <td>0</td>\n",
       "      <td>Transient</td>\n",
       "      <td>A</td>\n",
       "      <td>0</td>\n",
       "      <td>2</td>\n",
       "      <td>0</td>\n",
       "    </tr>\n",
       "    <tr>\n",
       "      <th>2</th>\n",
       "      <td>PRT</td>\n",
       "      <td>Online TA</td>\n",
       "      <td>0</td>\n",
       "      <td>1</td>\n",
       "      <td>No Deposit</td>\n",
       "      <td>0</td>\n",
       "      <td>Transient</td>\n",
       "      <td>A</td>\n",
       "      <td>0</td>\n",
       "      <td>2</td>\n",
       "      <td>0</td>\n",
       "    </tr>\n",
       "    <tr>\n",
       "      <th>3</th>\n",
       "      <td>NLD</td>\n",
       "      <td>Online TA</td>\n",
       "      <td>0</td>\n",
       "      <td>0</td>\n",
       "      <td>No Deposit</td>\n",
       "      <td>0</td>\n",
       "      <td>Transient</td>\n",
       "      <td>A</td>\n",
       "      <td>0</td>\n",
       "      <td>1</td>\n",
       "      <td>1</td>\n",
       "    </tr>\n",
       "    <tr>\n",
       "      <th>4</th>\n",
       "      <td>PRT</td>\n",
       "      <td>Online TA</td>\n",
       "      <td>0</td>\n",
       "      <td>2</td>\n",
       "      <td>No Deposit</td>\n",
       "      <td>0</td>\n",
       "      <td>Transient</td>\n",
       "      <td>A</td>\n",
       "      <td>0</td>\n",
       "      <td>2</td>\n",
       "      <td>0</td>\n",
       "    </tr>\n",
       "    <tr>\n",
       "      <th>...</th>\n",
       "      <td>...</td>\n",
       "      <td>...</td>\n",
       "      <td>...</td>\n",
       "      <td>...</td>\n",
       "      <td>...</td>\n",
       "      <td>...</td>\n",
       "      <td>...</td>\n",
       "      <td>...</td>\n",
       "      <td>...</td>\n",
       "      <td>...</td>\n",
       "      <td>...</td>\n",
       "    </tr>\n",
       "    <tr>\n",
       "      <th>83568</th>\n",
       "      <td>PRT</td>\n",
       "      <td>Online TA</td>\n",
       "      <td>0</td>\n",
       "      <td>0</td>\n",
       "      <td>No Deposit</td>\n",
       "      <td>0</td>\n",
       "      <td>Contract</td>\n",
       "      <td>A</td>\n",
       "      <td>0</td>\n",
       "      <td>3</td>\n",
       "      <td>1</td>\n",
       "    </tr>\n",
       "    <tr>\n",
       "      <th>83569</th>\n",
       "      <td>FRA</td>\n",
       "      <td>Online TA</td>\n",
       "      <td>0</td>\n",
       "      <td>0</td>\n",
       "      <td>No Deposit</td>\n",
       "      <td>0</td>\n",
       "      <td>Transient</td>\n",
       "      <td>D</td>\n",
       "      <td>0</td>\n",
       "      <td>2</td>\n",
       "      <td>0</td>\n",
       "    </tr>\n",
       "    <tr>\n",
       "      <th>83570</th>\n",
       "      <td>PRT</td>\n",
       "      <td>Online TA</td>\n",
       "      <td>0</td>\n",
       "      <td>1</td>\n",
       "      <td>No Deposit</td>\n",
       "      <td>0</td>\n",
       "      <td>Transient</td>\n",
       "      <td>D</td>\n",
       "      <td>0</td>\n",
       "      <td>3</td>\n",
       "      <td>0</td>\n",
       "    </tr>\n",
       "    <tr>\n",
       "      <th>83571</th>\n",
       "      <td>CN</td>\n",
       "      <td>Offline TA/TO</td>\n",
       "      <td>0</td>\n",
       "      <td>0</td>\n",
       "      <td>No Deposit</td>\n",
       "      <td>0</td>\n",
       "      <td>Transient-Party</td>\n",
       "      <td>A</td>\n",
       "      <td>0</td>\n",
       "      <td>0</td>\n",
       "      <td>0</td>\n",
       "    </tr>\n",
       "    <tr>\n",
       "      <th>83572</th>\n",
       "      <td>PRT</td>\n",
       "      <td>Groups</td>\n",
       "      <td>0</td>\n",
       "      <td>0</td>\n",
       "      <td>Non Refund</td>\n",
       "      <td>0</td>\n",
       "      <td>Transient</td>\n",
       "      <td>A</td>\n",
       "      <td>0</td>\n",
       "      <td>0</td>\n",
       "      <td>1</td>\n",
       "    </tr>\n",
       "  </tbody>\n",
       "</table>\n",
       "<p>83573 rows × 11 columns</p>\n",
       "</div>"
      ],
      "text/plain": [
       "      country market_segment  previous_cancellations  booking_changes  \\\n",
       "0         IRL  Offline TA/TO                       0                0   \n",
       "1         FRA      Online TA                       0                0   \n",
       "2         PRT      Online TA                       0                1   \n",
       "3         NLD      Online TA                       0                0   \n",
       "4         PRT      Online TA                       0                2   \n",
       "...       ...            ...                     ...              ...   \n",
       "83568     PRT      Online TA                       0                0   \n",
       "83569     FRA      Online TA                       0                0   \n",
       "83570     PRT      Online TA                       0                1   \n",
       "83571      CN  Offline TA/TO                       0                0   \n",
       "83572     PRT         Groups                       0                0   \n",
       "\n",
       "      deposit_type  days_in_waiting_list    customer_type reserved_room_type  \\\n",
       "0       No Deposit                     0  Transient-Party                  A   \n",
       "1       No Deposit                     0        Transient                  A   \n",
       "2       No Deposit                     0        Transient                  A   \n",
       "3       No Deposit                     0        Transient                  A   \n",
       "4       No Deposit                     0        Transient                  A   \n",
       "...            ...                   ...              ...                ...   \n",
       "83568   No Deposit                     0         Contract                  A   \n",
       "83569   No Deposit                     0        Transient                  D   \n",
       "83570   No Deposit                     0        Transient                  D   \n",
       "83571   No Deposit                     0  Transient-Party                  A   \n",
       "83572   Non Refund                     0        Transient                  A   \n",
       "\n",
       "       required_car_parking_spaces  total_of_special_requests  is_canceled  \n",
       "0                                0                          0            0  \n",
       "1                                0                          2            0  \n",
       "2                                0                          2            0  \n",
       "3                                0                          1            1  \n",
       "4                                0                          2            0  \n",
       "...                            ...                        ...          ...  \n",
       "83568                            0                          3            1  \n",
       "83569                            0                          2            0  \n",
       "83570                            0                          3            0  \n",
       "83571                            0                          0            0  \n",
       "83572                            0                          0            1  \n",
       "\n",
       "[83573 rows x 11 columns]"
      ]
     },
     "execution_count": 4,
     "metadata": {},
     "output_type": "execute_result"
    }
   ],
   "source": [
    "df"
   ]
  },
  {
   "cell_type": "markdown",
   "id": "60867a5d",
   "metadata": {},
   "source": [
    "# Data Understanding\n",
    "\n",
    "## Attribute Information\n",
    "\n",
    "| Attribute | Data Type | Description |\n",
    "| --- | --- | --- |\n",
    "| country | Object (Text) | Country of origin. Categories are represented in the ISO 3155–3:2013 format. |\n",
    "| market_segment | Object (Text) | Market segment designation. In categories, the term “TA” means “Travel Agents” and “TO” means “Tour Operators”. |\n",
    "| previous_cancellations | Integer (Number) | Number of previous bookings that were cancelled by the customer prior to the current booking. |\n",
    "| booking_changes | Integer (Number) | Number of changes/amendments made to the booking from the moment the booking was entered on the PMS until the moment of check-in or cancellation. |\n",
    "| deposit_type | Object (Text) | Indication on if the customer made a deposit to guarantee the booking. This variable can assume three categories: No Deposit – no deposit was made; Non Refund – a deposit was made in the value of the total stay cost; Refundable – a deposit was made with a value under the total cost of stay. |\n",
    "| days_in_waiting_list | Integer (Number) | Number of days the booking was in the waiting list before it was confirmed to the customer. |\n",
    "| customer_type | Object (Text) | Type of booking, assuming one of four categories: Contract - when the booking has an allotment or other type of contract associated to it; Group – when the booking is associated to a group; Transient – when the booking is not part of a group or contract, and is not associated to other transient booking; Transient-party – when the booking is transient, but is associated to at least other transient booking. |\n",
    "| reserved_room_type | Object (Text) | Code of room type reserved. Code is presented instead of designation for anonymity reasons. |\n",
    "| required_car_parking_spaces | Integer (Number) | Number of car parking spaces required by the customer. |\n",
    "| total_of_special_requests | Integer (Number) | Number of special requests made by the customer (e.g. twin bed or high floor). |\n",
    "| is_canceled | Integer (Number) | Value indicating if the booking was canceled (1) or not (0). |"
   ]
  },
  {
   "cell_type": "markdown",
   "id": "e65f8e1d",
   "metadata": {},
   "source": [
    "Country Codes Alpha-2 & Alpha-3 based on ISO 3166 international standard.\n",
    "\n",
    "Source: https://www.iban.com/country-codes"
   ]
  },
  {
   "cell_type": "markdown",
   "id": "40c1e560",
   "metadata": {},
   "source": [
    "# Exploratory Data Analysis (EDA)"
   ]
  },
  {
   "cell_type": "code",
   "execution_count": 5,
   "id": "43cef27b",
   "metadata": {},
   "outputs": [
    {
     "name": "stdout",
     "output_type": "stream",
     "text": [
      "Jumlah baris dan kolom di dataset df adalah 83573 baris dan 11 kolom\n",
      "<class 'pandas.core.frame.DataFrame'>\n",
      "RangeIndex: 83573 entries, 0 to 83572\n",
      "Data columns (total 11 columns):\n",
      " #   Column                       Non-Null Count  Dtype \n",
      "---  ------                       --------------  ----- \n",
      " 0   country                      83222 non-null  object\n",
      " 1   market_segment               83573 non-null  object\n",
      " 2   previous_cancellations       83573 non-null  int64 \n",
      " 3   booking_changes              83573 non-null  int64 \n",
      " 4   deposit_type                 83573 non-null  object\n",
      " 5   days_in_waiting_list         83573 non-null  int64 \n",
      " 6   customer_type                83573 non-null  object\n",
      " 7   reserved_room_type           83573 non-null  object\n",
      " 8   required_car_parking_spaces  83573 non-null  int64 \n",
      " 9   total_of_special_requests    83573 non-null  int64 \n",
      " 10  is_canceled                  83573 non-null  int64 \n",
      "dtypes: int64(6), object(5)\n",
      "memory usage: 7.0+ MB\n"
     ]
    }
   ],
   "source": [
    "print(f'Jumlah baris dan kolom di dataset df adalah {df.shape[0]} baris dan {df.shape[1]} kolom')\n",
    "\n",
    "df.info(verbose= True, show_counts=True)"
   ]
  },
  {
   "cell_type": "code",
   "execution_count": 6,
   "id": "2d257082",
   "metadata": {},
   "outputs": [
    {
     "data": {
      "application/vnd.microsoft.datawrangler.viewer.v0+json": {
       "columns": [
        {
         "name": "index",
         "rawType": "object",
         "type": "string"
        },
        {
         "name": "previous_cancellations",
         "rawType": "float64",
         "type": "float"
        },
        {
         "name": "booking_changes",
         "rawType": "float64",
         "type": "float"
        },
        {
         "name": "days_in_waiting_list",
         "rawType": "float64",
         "type": "float"
        },
        {
         "name": "required_car_parking_spaces",
         "rawType": "float64",
         "type": "float"
        },
        {
         "name": "total_of_special_requests",
         "rawType": "float64",
         "type": "float"
        },
        {
         "name": "is_canceled",
         "rawType": "float64",
         "type": "float"
        }
       ],
       "ref": "65a2f10c-3a3d-4266-98c5-5a30fe5124ca",
       "rows": [
        [
         "count",
         "83573.0",
         "83573.0",
         "83573.0",
         "83573.0",
         "83573.0",
         "83573.0"
        ],
        [
         "mean",
         "0.08679836789393704",
         "0.22089670108767184",
         "2.33056130568485",
         "0.06299881540688979",
         "0.5732114438873799",
         "0.36827683582018117"
        ],
        [
         "std",
         "0.8410105066372091",
         "0.6486349889478922",
         "17.673051195004433",
         "0.24691925661025427",
         "0.7951633830122106",
         "0.4823399131667478"
        ],
        [
         "min",
         "0.0",
         "0.0",
         "0.0",
         "0.0",
         "0.0",
         "0.0"
        ],
        [
         "25%",
         "0.0",
         "0.0",
         "0.0",
         "0.0",
         "0.0",
         "0.0"
        ],
        [
         "50%",
         "0.0",
         "0.0",
         "0.0",
         "0.0",
         "0.0",
         "0.0"
        ],
        [
         "75%",
         "0.0",
         "0.0",
         "0.0",
         "0.0",
         "1.0",
         "1.0"
        ],
        [
         "max",
         "26.0",
         "21.0",
         "391.0",
         "8.0",
         "5.0",
         "1.0"
        ]
       ],
       "shape": {
        "columns": 6,
        "rows": 8
       }
      },
      "text/html": [
       "<div>\n",
       "<style scoped>\n",
       "    .dataframe tbody tr th:only-of-type {\n",
       "        vertical-align: middle;\n",
       "    }\n",
       "\n",
       "    .dataframe tbody tr th {\n",
       "        vertical-align: top;\n",
       "    }\n",
       "\n",
       "    .dataframe thead th {\n",
       "        text-align: right;\n",
       "    }\n",
       "</style>\n",
       "<table border=\"1\" class=\"dataframe\">\n",
       "  <thead>\n",
       "    <tr style=\"text-align: right;\">\n",
       "      <th></th>\n",
       "      <th>previous_cancellations</th>\n",
       "      <th>booking_changes</th>\n",
       "      <th>days_in_waiting_list</th>\n",
       "      <th>required_car_parking_spaces</th>\n",
       "      <th>total_of_special_requests</th>\n",
       "      <th>is_canceled</th>\n",
       "    </tr>\n",
       "  </thead>\n",
       "  <tbody>\n",
       "    <tr>\n",
       "      <th>count</th>\n",
       "      <td>83573.000000</td>\n",
       "      <td>83573.000000</td>\n",
       "      <td>83573.000000</td>\n",
       "      <td>83573.000000</td>\n",
       "      <td>83573.000000</td>\n",
       "      <td>83573.000000</td>\n",
       "    </tr>\n",
       "    <tr>\n",
       "      <th>mean</th>\n",
       "      <td>0.086798</td>\n",
       "      <td>0.220897</td>\n",
       "      <td>2.330561</td>\n",
       "      <td>0.062999</td>\n",
       "      <td>0.573211</td>\n",
       "      <td>0.368277</td>\n",
       "    </tr>\n",
       "    <tr>\n",
       "      <th>std</th>\n",
       "      <td>0.841011</td>\n",
       "      <td>0.648635</td>\n",
       "      <td>17.673051</td>\n",
       "      <td>0.246919</td>\n",
       "      <td>0.795163</td>\n",
       "      <td>0.482340</td>\n",
       "    </tr>\n",
       "    <tr>\n",
       "      <th>min</th>\n",
       "      <td>0.000000</td>\n",
       "      <td>0.000000</td>\n",
       "      <td>0.000000</td>\n",
       "      <td>0.000000</td>\n",
       "      <td>0.000000</td>\n",
       "      <td>0.000000</td>\n",
       "    </tr>\n",
       "    <tr>\n",
       "      <th>25%</th>\n",
       "      <td>0.000000</td>\n",
       "      <td>0.000000</td>\n",
       "      <td>0.000000</td>\n",
       "      <td>0.000000</td>\n",
       "      <td>0.000000</td>\n",
       "      <td>0.000000</td>\n",
       "    </tr>\n",
       "    <tr>\n",
       "      <th>50%</th>\n",
       "      <td>0.000000</td>\n",
       "      <td>0.000000</td>\n",
       "      <td>0.000000</td>\n",
       "      <td>0.000000</td>\n",
       "      <td>0.000000</td>\n",
       "      <td>0.000000</td>\n",
       "    </tr>\n",
       "    <tr>\n",
       "      <th>75%</th>\n",
       "      <td>0.000000</td>\n",
       "      <td>0.000000</td>\n",
       "      <td>0.000000</td>\n",
       "      <td>0.000000</td>\n",
       "      <td>1.000000</td>\n",
       "      <td>1.000000</td>\n",
       "    </tr>\n",
       "    <tr>\n",
       "      <th>max</th>\n",
       "      <td>26.000000</td>\n",
       "      <td>21.000000</td>\n",
       "      <td>391.000000</td>\n",
       "      <td>8.000000</td>\n",
       "      <td>5.000000</td>\n",
       "      <td>1.000000</td>\n",
       "    </tr>\n",
       "  </tbody>\n",
       "</table>\n",
       "</div>"
      ],
      "text/plain": [
       "       previous_cancellations  booking_changes  days_in_waiting_list  \\\n",
       "count            83573.000000     83573.000000          83573.000000   \n",
       "mean                 0.086798         0.220897              2.330561   \n",
       "std                  0.841011         0.648635             17.673051   \n",
       "min                  0.000000         0.000000              0.000000   \n",
       "25%                  0.000000         0.000000              0.000000   \n",
       "50%                  0.000000         0.000000              0.000000   \n",
       "75%                  0.000000         0.000000              0.000000   \n",
       "max                 26.000000        21.000000            391.000000   \n",
       "\n",
       "       required_car_parking_spaces  total_of_special_requests   is_canceled  \n",
       "count                 83573.000000               83573.000000  83573.000000  \n",
       "mean                      0.062999                   0.573211      0.368277  \n",
       "std                       0.246919                   0.795163      0.482340  \n",
       "min                       0.000000                   0.000000      0.000000  \n",
       "25%                       0.000000                   0.000000      0.000000  \n",
       "50%                       0.000000                   0.000000      0.000000  \n",
       "75%                       0.000000                   1.000000      1.000000  \n",
       "max                       8.000000                   5.000000      1.000000  "
      ]
     },
     "metadata": {},
     "output_type": "display_data"
    },
    {
     "data": {
      "application/vnd.microsoft.datawrangler.viewer.v0+json": {
       "columns": [
        {
         "name": "index",
         "rawType": "object",
         "type": "string"
        },
        {
         "name": "country",
         "rawType": "object",
         "type": "unknown"
        },
        {
         "name": "market_segment",
         "rawType": "object",
         "type": "unknown"
        },
        {
         "name": "deposit_type",
         "rawType": "object",
         "type": "unknown"
        },
        {
         "name": "customer_type",
         "rawType": "object",
         "type": "unknown"
        },
        {
         "name": "reserved_room_type",
         "rawType": "object",
         "type": "unknown"
        }
       ],
       "ref": "13a94fd4-7214-43d6-89cb-1926d8bf2568",
       "rows": [
        [
         "count",
         "83222",
         "83573",
         "83573",
         "83573",
         "83573"
        ],
        [
         "unique",
         "162",
         "8",
         "3",
         "4",
         "10"
        ],
        [
         "top",
         "PRT",
         "Online TA",
         "No Deposit",
         "Transient",
         "A"
        ],
        [
         "freq",
         "34097",
         "39460",
         "73352",
         "62732",
         "60041"
        ]
       ],
       "shape": {
        "columns": 5,
        "rows": 4
       }
      },
      "text/html": [
       "<div>\n",
       "<style scoped>\n",
       "    .dataframe tbody tr th:only-of-type {\n",
       "        vertical-align: middle;\n",
       "    }\n",
       "\n",
       "    .dataframe tbody tr th {\n",
       "        vertical-align: top;\n",
       "    }\n",
       "\n",
       "    .dataframe thead th {\n",
       "        text-align: right;\n",
       "    }\n",
       "</style>\n",
       "<table border=\"1\" class=\"dataframe\">\n",
       "  <thead>\n",
       "    <tr style=\"text-align: right;\">\n",
       "      <th></th>\n",
       "      <th>country</th>\n",
       "      <th>market_segment</th>\n",
       "      <th>deposit_type</th>\n",
       "      <th>customer_type</th>\n",
       "      <th>reserved_room_type</th>\n",
       "    </tr>\n",
       "  </thead>\n",
       "  <tbody>\n",
       "    <tr>\n",
       "      <th>count</th>\n",
       "      <td>83222</td>\n",
       "      <td>83573</td>\n",
       "      <td>83573</td>\n",
       "      <td>83573</td>\n",
       "      <td>83573</td>\n",
       "    </tr>\n",
       "    <tr>\n",
       "      <th>unique</th>\n",
       "      <td>162</td>\n",
       "      <td>8</td>\n",
       "      <td>3</td>\n",
       "      <td>4</td>\n",
       "      <td>10</td>\n",
       "    </tr>\n",
       "    <tr>\n",
       "      <th>top</th>\n",
       "      <td>PRT</td>\n",
       "      <td>Online TA</td>\n",
       "      <td>No Deposit</td>\n",
       "      <td>Transient</td>\n",
       "      <td>A</td>\n",
       "    </tr>\n",
       "    <tr>\n",
       "      <th>freq</th>\n",
       "      <td>34097</td>\n",
       "      <td>39460</td>\n",
       "      <td>73352</td>\n",
       "      <td>62732</td>\n",
       "      <td>60041</td>\n",
       "    </tr>\n",
       "  </tbody>\n",
       "</table>\n",
       "</div>"
      ],
      "text/plain": [
       "       country market_segment deposit_type customer_type reserved_room_type\n",
       "count    83222          83573        83573         83573              83573\n",
       "unique     162              8            3             4                 10\n",
       "top        PRT      Online TA   No Deposit     Transient                  A\n",
       "freq     34097          39460        73352         62732              60041"
      ]
     },
     "metadata": {},
     "output_type": "display_data"
    }
   ],
   "source": [
    "display(df.describe(), df.describe(include='object'))"
   ]
  },
  {
   "cell_type": "markdown",
   "id": "96fc7ef0",
   "metadata": {},
   "source": [
    "## Data Distribution"
   ]
  },
  {
   "cell_type": "markdown",
   "id": "b86bcb38",
   "metadata": {},
   "source": [
    "### Categorical features"
   ]
  },
  {
   "cell_type": "code",
   "execution_count": 7,
   "id": "155c16ec",
   "metadata": {},
   "outputs": [],
   "source": [
    "import seaborn as sns\n",
    "import matplotlib.pyplot as plt\n",
    "\n",
    "# Automatically select categorical columns\n",
    "categorical_cols_eda = df.select_dtypes(include='object').columns\n",
    "categorical_cols_eda = categorical_cols_eda.drop('country')"
   ]
  },
  {
   "cell_type": "code",
   "execution_count": 8,
   "id": "1d97b446",
   "metadata": {},
   "outputs": [
    {
     "name": "stderr",
     "output_type": "stream",
     "text": [
      "C:\\Users\\rudyc\\AppData\\Local\\Temp\\ipykernel_10176\\3172476565.py:3: FutureWarning: \n",
      "\n",
      "Passing `palette` without assigning `hue` is deprecated and will be removed in v0.14.0. Assign the `x` variable to `hue` and set `legend=False` for the same effect.\n",
      "\n",
      "  sns.countplot(data=df, x=col, order=df[col].value_counts().index,palette='tab10')\n"
     ]
    },
    {
     "data": {
      "image/png": "[encoded data removed]",
      "text/plain": [
       "<Figure size 500x300 with 1 Axes>"
      ]
     },
     "metadata": {},
     "output_type": "display_data"
    },
    {
     "name": "stderr",
     "output_type": "stream",
     "text": [
      "C:\\Users\\rudyc\\AppData\\Local\\Temp\\ipykernel_10176\\3172476565.py:3: FutureWarning: \n",
      "\n",
      "Passing `palette` without assigning `hue` is deprecated and will be removed in v0.14.0. Assign the `x` variable to `hue` and set `legend=False` for the same effect.\n",
      "\n",
      "  sns.countplot(data=df, x=col, order=df[col].value_counts().index,palette='tab10')\n"
     ]
    },
    {
     "data": {
      "image/png": "[encoded data removed]",
      "text/plain": [
       "<Figure size 500x300 with 1 Axes>"
      ]
     },
     "metadata": {},
     "output_type": "display_data"
    },
    {
     "name": "stderr",
     "output_type": "stream",
     "text": [
      "C:\\Users\\rudyc\\AppData\\Local\\Temp\\ipykernel_10176\\3172476565.py:3: FutureWarning: \n",
      "\n",
      "Passing `palette` without assigning `hue` is deprecated and will be removed in v0.14.0. Assign the `x` variable to `hue` and set `legend=False` for the same effect.\n",
      "\n",
      "  sns.countplot(data=df, x=col, order=df[col].value_counts().index,palette='tab10')\n"
     ]
    },
    {
     "data": {
      "image/png": "[encoded data removed]",
      "text/plain": [
       "<Figure size 500x300 with 1 Axes>"
      ]
     },
     "metadata": {},
     "output_type": "display_data"
    },
    {
     "name": "stderr",
     "output_type": "stream",
     "text": [
      "C:\\Users\\rudyc\\AppData\\Local\\Temp\\ipykernel_10176\\3172476565.py:3: FutureWarning: \n",
      "\n",
      "Passing `palette` without assigning `hue` is deprecated and will be removed in v0.14.0. Assign the `x` variable to `hue` and set `legend=False` for the same effect.\n",
      "\n",
      "  sns.countplot(data=df, x=col, order=df[col].value_counts().index,palette='tab10')\n"
     ]
    },
    {
     "data": {
      "image/png": "[encoded data removed]",
      "text/plain": [
       "<Figure size 500x300 with 1 Axes>"
      ]
     },
     "metadata": {},
     "output_type": "display_data"
    }
   ],
   "source": [
    "for col in categorical_cols_eda:\n",
    "    plt.figure(figsize=(5,3))\n",
    "    sns.countplot(data=df, x=col, order=df[col].value_counts().index,palette='tab10')\n",
    "    plt.title(f'Countplot of {col}')\n",
    "    plt.xticks(rotation=45)\n",
    "    plt.tight_layout()\n",
    "    plt.show()\n"
   ]
  },
  {
   "cell_type": "code",
   "execution_count": 9,
   "id": "5a5c5dd3",
   "metadata": {},
   "outputs": [
    {
     "name": "stderr",
     "output_type": "stream",
     "text": [
      "C:\\Users\\rudyc\\AppData\\Local\\Temp\\ipykernel_10176\\1615927902.py:8: FutureWarning: \n",
      "\n",
      "Passing `palette` without assigning `hue` is deprecated and will be removed in v0.14.0. Assign the `x` variable to `hue` and set `legend=False` for the same effect.\n",
      "\n",
      "  sns.countplot(\n"
     ]
    },
    {
     "data": {
      "image/png": "[encoded data removed]",
      "text/plain": [
       "<Figure size 1000x500 with 1 Axes>"
      ]
     },
     "metadata": {},
     "output_type": "display_data"
    }
   ],
   "source": [
    "# Group countries outside the top 10 as 'Other'\n",
    "top10_countries = df['country'].value_counts().nlargest(10).index\n",
    "df_top10 = df[df['country'].isin(top10_countries)]\n",
    "# df['country_grouped'] = df['country'].apply(lambda x: x if x in top10_countries else 'Other')\n",
    "\n",
    "# 3. Create a colorful countplot\n",
    "plt.figure(figsize=(10, 5))\n",
    "sns.countplot(\n",
    "    data=df_top10,\n",
    "    x='country',\n",
    "    order=top10_countries,\n",
    "    palette='tab10'  \n",
    ")\n",
    "plt.title('Top 10 Countries by Booking Count')\n",
    "plt.xlabel('Country')\n",
    "plt.ylabel('Count')\n",
    "plt.xticks(rotation=45)\n",
    "plt.tight_layout()\n",
    "plt.show()"
   ]
  },
  {
   "cell_type": "code",
   "execution_count": 10,
   "id": "d89df02f",
   "metadata": {},
   "outputs": [
    {
     "name": "stdout",
     "output_type": "stream",
     "text": [
      "Unique:\n",
      " ['IRL' 'FRA' 'PRT' 'NLD' 'ESP' 'UMI' 'CN' 'LUX' 'BRA' 'BEL' 'JPN' 'DEU'\n",
      " 'ITA' 'CHE' 'GBR' 'AGO' 'SRB' 'COL' 'CHN' 'SWE' 'AUT' 'CIV' 'CZE' 'POL'\n",
      " 'USA' 'SGP' 'RUS' 'ROU' 'DNK' 'IND' 'MAR' 'PHL' 'ARG' 'ISL' 'ZAF' 'LBN'\n",
      " 'MOZ' 'TUR' 'BGD' 'MEX' 'CAF' 'NOR' 'FIN' 'UKR' 'EGY' 'ISR' nan 'KOR'\n",
      " 'AZE' 'HUN' 'AUS' 'EST' 'CHL' 'SVN' 'PRY' 'ABW' 'ALB' 'LTU' 'ARE' 'HRV'\n",
      " 'SAU' 'NZL' 'LVA' 'ATA' 'KAZ' 'DZA' 'TWN' 'CRI' 'BIH' 'BGR' 'IRQ' 'OMN'\n",
      " 'VEN' 'IDN' 'GEO' 'MLT' 'IRN' 'BLR' 'URY' 'LBY' 'TUN' 'BEN' 'MYS' 'MWI'\n",
      " 'GRC' 'CYP' 'CPV' 'HKG' 'PRI' 'MKD' 'MUS' 'IMN' 'PAN' 'NGA' 'GLP' 'KHM'\n",
      " 'PER' 'QAT' 'SEN' 'MAC' 'SVK' 'BHR' 'ECU' 'SYC' 'BOL' 'TJK' 'LCA' 'MDV'\n",
      " 'SYR' 'ZMB' 'LIE' 'THA' 'MNE' 'BRB' 'CMR' 'JEY' 'GTM' 'LKA' 'JOR' 'TZA'\n",
      " 'AND' 'ARM' 'GIB' 'VNM' 'PAK' 'JAM' 'DOM' 'KWT' 'LAO' 'RWA' 'FRO' 'GAB'\n",
      " 'ETH' 'CUB' 'COM' 'GNB' 'GGY' 'NIC' 'TGO' 'TMP' 'CYM' 'GHA' 'SLE' 'BWA'\n",
      " 'NCL' 'UZB' 'SUR' 'SDN' 'PLW' 'MLI' 'MMR' 'BFA' 'SLV' 'BDI' 'ZWE' 'UGA'\n",
      " 'DMA' 'VGB' 'KIR' 'KEN' 'MYT' 'KNA' 'AIA']\n",
      "\n",
      "counts:\n",
      " country\n",
      "PRT    34097\n",
      "GBR     8495\n",
      "FRA     7307\n",
      "ESP     5996\n",
      "DEU     5116\n",
      "       ...  \n",
      "DMA        1\n",
      "KIR        1\n",
      "MYT        1\n",
      "KNA        1\n",
      "AIA        1\n",
      "Name: count, Length: 162, dtype: int64\n"
     ]
    }
   ],
   "source": [
    "# CATEGORY 1\n",
    "unique_country = df['country'].unique()\n",
    "print(\"Unique:\\n\", unique_country)\n",
    "\n",
    "cnt_country = df['country'].value_counts()\n",
    "print(\"\\ncounts:\\n\", cnt_country)"
   ]
  },
  {
   "cell_type": "code",
   "execution_count": 11,
   "id": "260a0461",
   "metadata": {},
   "outputs": [
    {
     "name": "stdout",
     "output_type": "stream",
     "text": [
      "Unique:\n",
      " ['Offline TA/TO' 'Online TA' 'Direct' 'Groups' 'Corporate' 'Complementary'\n",
      " 'Aviation' 'Undefined']\n",
      "\n",
      "counts:\n",
      " market_segment\n",
      "Online TA        39460\n",
      "Offline TA/TO    17025\n",
      "Groups           13721\n",
      "Direct            8898\n",
      "Corporate         3792\n",
      "Complementary      511\n",
      "Aviation           165\n",
      "Undefined            1\n",
      "Name: count, dtype: int64\n"
     ]
    }
   ],
   "source": [
    "# CATEGORY 2\n",
    "unique_market_segment = df['market_segment'].unique()\n",
    "print(\"Unique:\\n\", unique_market_segment)\n",
    "\n",
    "cnt_market_segment = df['market_segment'].value_counts()\n",
    "print(\"\\ncounts:\\n\", cnt_market_segment)"
   ]
  },
  {
   "cell_type": "code",
   "execution_count": 12,
   "id": "2f9fdd0c",
   "metadata": {},
   "outputs": [
    {
     "name": "stdout",
     "output_type": "stream",
     "text": [
      "Unique:\n",
      " ['No Deposit' 'Non Refund' 'Refundable']\n",
      "\n",
      "counts:\n",
      " deposit_type\n",
      "No Deposit    73352\n",
      "Non Refund    10111\n",
      "Refundable      110\n",
      "Name: count, dtype: int64\n"
     ]
    }
   ],
   "source": [
    "# CATEGORY 3\n",
    "unique_deposit_type = df['deposit_type'].unique()\n",
    "print(\"Unique:\\n\", unique_deposit_type)\n",
    "\n",
    "cnt_deposit_type = df['deposit_type'].value_counts()\n",
    "print(\"\\ncounts:\\n\", cnt_deposit_type)"
   ]
  },
  {
   "cell_type": "code",
   "execution_count": 13,
   "id": "fe3e140e",
   "metadata": {},
   "outputs": [
    {
     "name": "stdout",
     "output_type": "stream",
     "text": [
      "Unique:\n",
      " ['Transient-Party' 'Transient' 'Contract' 'Group']\n",
      "\n",
      "counts:\n",
      " customer_type\n",
      "Transient          62732\n",
      "Transient-Party    17536\n",
      "Contract            2882\n",
      "Group                423\n",
      "Name: count, dtype: int64\n"
     ]
    }
   ],
   "source": [
    "# CATEGORY 4\n",
    "unique_customer_type = df['customer_type'].unique()\n",
    "print(\"Unique:\\n\", unique_customer_type)\n",
    "\n",
    "cnt_customer_type = df['customer_type'].value_counts()\n",
    "print(\"\\ncounts:\\n\", cnt_customer_type)"
   ]
  },
  {
   "cell_type": "code",
   "execution_count": 14,
   "id": "38be98fe",
   "metadata": {},
   "outputs": [
    {
     "name": "stdout",
     "output_type": "stream",
     "text": [
      "Unique:\n",
      " ['A' 'E' 'D' 'F' 'B' 'G' 'C' 'H' 'L' 'P']\n",
      "\n",
      "counts:\n",
      " reserved_room_type\n",
      "A    60041\n",
      "D    13526\n",
      "E     4649\n",
      "F     2037\n",
      "G     1447\n",
      "B      787\n",
      "C      673\n",
      "H      401\n",
      "P        9\n",
      "L        3\n",
      "Name: count, dtype: int64\n"
     ]
    }
   ],
   "source": [
    "# CATEGORY 5\n",
    "unique_reserved_room_type = df['reserved_room_type'].unique()\n",
    "print(\"Unique:\\n\", unique_reserved_room_type)\n",
    "\n",
    "cnt_reserved_room_type = df['reserved_room_type'].value_counts()\n",
    "print(\"\\ncounts:\\n\", cnt_reserved_room_type)"
   ]
  },
  {
   "cell_type": "code",
   "execution_count": 15,
   "id": "ebc88c21",
   "metadata": {},
   "outputs": [],
   "source": [
    "import seaborn as sns\n",
    "import matplotlib.pyplot as plt\n",
    "\n",
    "# Automatically select numerical columns\n",
    "numerical_cols_eda = df.select_dtypes(include='number').columns\n",
    "numerical_cols_eda = numerical_cols_eda.drop('is_canceled')"
   ]
  },
  {
   "cell_type": "code",
   "execution_count": 16,
   "id": "e503433b",
   "metadata": {},
   "outputs": [
    {
     "data": {
      "image/png": "[encoded data removed]",
      "text/plain": [
       "<Figure size 500x300 with 1 Axes>"
      ]
     },
     "metadata": {},
     "output_type": "display_data"
    },
    {
     "data": {
      "image/png": "[encoded data removed]",
      "text/plain": [
       "<Figure size 500x300 with 1 Axes>"
      ]
     },
     "metadata": {},
     "output_type": "display_data"
    },
    {
     "data": {
      "image/png": "[encoded data removed]",
      "text/plain": [
       "<Figure size 500x300 with 1 Axes>"
      ]
     },
     "metadata": {},
     "output_type": "display_data"
    },
    {
     "data": {
      "image/png": "[encoded data removed]",
      "text/plain": [
       "<Figure size 500x300 with 1 Axes>"
      ]
     },
     "metadata": {},
     "output_type": "display_data"
    },
    {
     "data": {
      "image/png": "[encoded data removed]",
      "text/plain": [
       "<Figure size 500x300 with 1 Axes>"
      ]
     },
     "metadata": {},
     "output_type": "display_data"
    }
   ],
   "source": [
    "for col in numerical_cols_eda:\n",
    "    plt.figure(figsize=(5,3))\n",
    "    sns.boxplot(x=df[col])\n",
    "    plt.title(f'Boxplot of {col}')\n",
    "    plt.tight_layout()\n",
    "    plt.show()"
   ]
  },
  {
   "cell_type": "code",
   "execution_count": 17,
   "id": "1295e863",
   "metadata": {},
   "outputs": [
    {
     "data": {
      "image/png": "[encoded data removed]",
      "text/plain": [
       "<Figure size 500x300 with 1 Axes>"
      ]
     },
     "metadata": {},
     "output_type": "display_data"
    },
    {
     "data": {
      "image/png": "[encoded data removed]",
      "text/plain": [
       "<Figure size 500x300 with 1 Axes>"
      ]
     },
     "metadata": {},
     "output_type": "display_data"
    },
    {
     "data": {
      "image/png": "[encoded data removed]",
      "text/plain": [
       "<Figure size 500x300 with 1 Axes>"
      ]
     },
     "metadata": {},
     "output_type": "display_data"
    },
    {
     "data": {
      "image/png": "[encoded data removed]",
      "text/plain": [
       "<Figure size 500x300 with 1 Axes>"
      ]
     },
     "metadata": {},
     "output_type": "display_data"
    },
    {
     "data": {
      "image/png": "[encoded data removed]",
      "text/plain": [
       "<Figure size 500x300 with 1 Axes>"
      ]
     },
     "metadata": {},
     "output_type": "display_data"
    }
   ],
   "source": [
    "for col in numerical_cols_eda:\n",
    "    plt.figure(figsize=(5,3))\n",
    "    sns.histplot(df[col], bins=30, kde=False)\n",
    "    plt.title(f'Histogram of {col}')\n",
    "    plt.tight_layout()\n",
    "    plt.show()"
   ]
  },
  {
   "cell_type": "code",
   "execution_count": 18,
   "id": "b7acab2a",
   "metadata": {},
   "outputs": [
    {
     "name": "stdout",
     "output_type": "stream",
     "text": [
      "Unique:\n",
      " [ 0  1 25  2  3 11 24 13  6 26 14  4 19  5 21]\n",
      "\n",
      "counts:\n",
      " previous_cancellations\n",
      "0     79060\n",
      "1      4207\n",
      "2        86\n",
      "3        46\n",
      "24       33\n",
      "11       28\n",
      "6        19\n",
      "4        19\n",
      "26       18\n",
      "25       17\n",
      "19       12\n",
      "14       10\n",
      "13       10\n",
      "5         7\n",
      "21        1\n",
      "Name: count, dtype: int64\n"
     ]
    }
   ],
   "source": [
    "# NUMERICAL 1\n",
    "unique_previous_cancellations = df['previous_cancellations'].unique()\n",
    "print(\"Unique:\\n\", unique_previous_cancellations)\n",
    "\n",
    "cnt_previous_cancellations = df['previous_cancellations'].value_counts()\n",
    "print(\"\\ncounts:\\n\", cnt_previous_cancellations)"
   ]
  },
  {
   "cell_type": "code",
   "execution_count": 19,
   "id": "6d678ee6",
   "metadata": {},
   "outputs": [
    {
     "name": "stdout",
     "output_type": "stream",
     "text": [
      "Max: 26\n",
      "Min: 0\n",
      "Mean: 0.08679836789393704\n"
     ]
    }
   ],
   "source": [
    "max_values_pc = df['previous_cancellations'].max()\n",
    "min_values_pc = df['previous_cancellations'].min()\n",
    "mean_values_pc = df['previous_cancellations'].mean()\n",
    "\n",
    "print(\"Max:\", max_values_pc)\n",
    "print(\"Min:\", min_values_pc)\n",
    "print(\"Mean:\", mean_values_pc)"
   ]
  },
  {
   "cell_type": "code",
   "execution_count": 20,
   "id": "c5e29d24",
   "metadata": {},
   "outputs": [
    {
     "name": "stdout",
     "output_type": "stream",
     "text": [
      "Unique:\n",
      " [ 0  1  2  5  3  4  6  7  9  8 17 10 13 12 14 21 16 20 15]\n",
      "\n",
      "counts:\n",
      " booking_changes\n",
      "0     70873\n",
      "1      8963\n",
      "2      2652\n",
      "3       639\n",
      "4       260\n",
      "5        90\n",
      "6        39\n",
      "7        23\n",
      "8        10\n",
      "10        5\n",
      "9         4\n",
      "13        4\n",
      "17        2\n",
      "12        2\n",
      "14        2\n",
      "16        2\n",
      "21        1\n",
      "20        1\n",
      "15        1\n",
      "Name: count, dtype: int64\n"
     ]
    }
   ],
   "source": [
    "# NUMERICAL 2\n",
    "unique_booking_changes = df['booking_changes'].unique()\n",
    "print(\"Unique:\\n\", unique_booking_changes)\n",
    "\n",
    "cnt_booking_changes = df['booking_changes'].value_counts()\n",
    "print(\"\\ncounts:\\n\", cnt_booking_changes)"
   ]
  },
  {
   "cell_type": "code",
   "execution_count": 21,
   "id": "e7334265",
   "metadata": {},
   "outputs": [
    {
     "name": "stdout",
     "output_type": "stream",
     "text": [
      "Max: 21\n",
      "Min: 0\n",
      "Mean: 0.22089670108767184\n"
     ]
    }
   ],
   "source": [
    "max_values_bc = df['booking_changes'].max()\n",
    "min_values_bc = df['booking_changes'].min()\n",
    "mean_values_bc = df['booking_changes'].mean()\n",
    "\n",
    "print(\"Max:\", max_values_bc)\n",
    "print(\"Min:\", min_values_bc)\n",
    "print(\"Mean:\", mean_values_bc)"
   ]
  },
  {
   "cell_type": "code",
   "execution_count": 22,
   "id": "6fae94f3",
   "metadata": {},
   "outputs": [
    {
     "name": "stdout",
     "output_type": "stream",
     "text": [
      "Unique:\n",
      " [  0   3  39  87  77 215  97 162  46  79   4  31 122  34  57 259  50  17\n",
      "  32  43  75  69  44  22 113  58  38  65  48 236 176  25 108  91  19 160\n",
      "  68  28  63  35  42  59  24   8 183 187  21 111  56  98 101  15  16  47\n",
      "  93  45  14  70  10  49 178  99  60  40  85 223   6  33 391  20   1  41\n",
      " 147  55  80 379 150  61 330 174 107  96  18  62  13  30 120  27 207  71\n",
      "   2  76 125   5   9 224  53  83  84  12  73 100  92  23  11 105  26 193\n",
      "   7 165  74 121  36  64 185]\n",
      "\n",
      "counts:\n",
      " days_in_waiting_list\n",
      "0      80988\n",
      "39       166\n",
      "58       104\n",
      "44        93\n",
      "31        93\n",
      "       ...  \n",
      "74         1\n",
      "121        1\n",
      "36         1\n",
      "64         1\n",
      "185        1\n",
      "Name: count, Length: 115, dtype: int64\n"
     ]
    }
   ],
   "source": [
    "# NUMERICAL 3\n",
    "unique_days_in_waiting_list = df['days_in_waiting_list'].unique()\n",
    "print(\"Unique:\\n\", unique_days_in_waiting_list)\n",
    "\n",
    "cnt_days_in_waiting_list = df['days_in_waiting_list'].value_counts()\n",
    "print(\"\\ncounts:\\n\", cnt_days_in_waiting_list)"
   ]
  },
  {
   "cell_type": "code",
   "execution_count": 23,
   "id": "ab3e5837",
   "metadata": {},
   "outputs": [
    {
     "name": "stdout",
     "output_type": "stream",
     "text": [
      "Max: 391\n",
      "Min: 0\n",
      "Mean: 2.33056130568485\n"
     ]
    }
   ],
   "source": [
    "max_values_dwl = df['days_in_waiting_list'].max()\n",
    "min_values_dwl = df['days_in_waiting_list'].min()\n",
    "mean_values_dwl = df['days_in_waiting_list'].mean()\n",
    "\n",
    "print(\"Max:\", max_values_dwl)\n",
    "print(\"Min:\", min_values_dwl)\n",
    "print(\"Mean:\", mean_values_dwl)"
   ]
  },
  {
   "cell_type": "code",
   "execution_count": 24,
   "id": "ba496f78",
   "metadata": {},
   "outputs": [
    {
     "name": "stdout",
     "output_type": "stream",
     "text": [
      "Unique:\n",
      " [0 1 2 8 3]\n",
      "\n",
      "counts:\n",
      " required_car_parking_spaces\n",
      "0    78346\n",
      "1     5202\n",
      "2       22\n",
      "8        2\n",
      "3        1\n",
      "Name: count, dtype: int64\n"
     ]
    }
   ],
   "source": [
    "# NUMERICAL 4\n",
    "unique_required_car_parking_spaces = df['required_car_parking_spaces'].unique()\n",
    "print(\"Unique:\\n\", unique_required_car_parking_spaces)\n",
    "\n",
    "cnt_required_car_parking_spaces = df['required_car_parking_spaces'].value_counts()\n",
    "print(\"\\ncounts:\\n\", cnt_required_car_parking_spaces)"
   ]
  },
  {
   "cell_type": "code",
   "execution_count": 25,
   "id": "431d9866",
   "metadata": {},
   "outputs": [
    {
     "name": "stdout",
     "output_type": "stream",
     "text": [
      "Max: 8\n",
      "Min: 0\n",
      "Mean: 0.06299881540688979\n"
     ]
    }
   ],
   "source": [
    "max_values_cp = df['required_car_parking_spaces'].max()\n",
    "min_values_cp = df['required_car_parking_spaces'].min()\n",
    "mean_values_cp = df['required_car_parking_spaces'].mean()\n",
    "\n",
    "print(\"Max:\", max_values_cp)\n",
    "print(\"Min:\", min_values_cp)\n",
    "print(\"Mean:\", mean_values_cp)"
   ]
  },
  {
   "cell_type": "code",
   "execution_count": 26,
   "id": "9011284f",
   "metadata": {},
   "outputs": [
    {
     "name": "stdout",
     "output_type": "stream",
     "text": [
      "Unique:\n",
      " [0 2 1 3 4 5]\n",
      "\n",
      "counts:\n",
      " total_of_special_requests\n",
      "0    49188\n",
      "1    23214\n",
      "2     9120\n",
      "3     1784\n",
      "4      236\n",
      "5       31\n",
      "Name: count, dtype: int64\n"
     ]
    }
   ],
   "source": [
    "# NUMERICAL 5\n",
    "unique_total_of_special_requests = df['total_of_special_requests'].unique()\n",
    "print(\"Unique:\\n\", unique_total_of_special_requests)\n",
    "\n",
    "cnt_total_of_special_requests = df['total_of_special_requests'].value_counts()\n",
    "print(\"\\ncounts:\\n\", cnt_total_of_special_requests)"
   ]
  },
  {
   "cell_type": "code",
   "execution_count": 27,
   "id": "8ca7cf9e",
   "metadata": {},
   "outputs": [
    {
     "name": "stdout",
     "output_type": "stream",
     "text": [
      "Max: 5\n",
      "Min: 0\n",
      "Mean: 0.5732114438873799\n"
     ]
    }
   ],
   "source": [
    "max_values_spr = df['total_of_special_requests'].max()\n",
    "min_values_spr = df['total_of_special_requests'].min()\n",
    "mean_values_spr = df['total_of_special_requests'].mean()\n",
    "\n",
    "print(\"Max:\", max_values_spr)\n",
    "print(\"Min:\", min_values_spr)\n",
    "print(\"Mean:\", mean_values_spr)"
   ]
  },
  {
   "cell_type": "markdown",
   "id": "5f6f9c57",
   "metadata": {},
   "source": [
    "# Data Cleaning"
   ]
  },
  {
   "cell_type": "code",
   "execution_count": 28,
   "id": "d4f2e86b",
   "metadata": {},
   "outputs": [
    {
     "data": {
      "application/vnd.microsoft.datawrangler.viewer.v0+json": {
       "columns": [
        {
         "name": "index",
         "rawType": "object",
         "type": "string"
        },
        {
         "name": "0",
         "rawType": "int64",
         "type": "integer"
        }
       ],
       "ref": "ea47a7b6-9d89-4428-808d-b0d1da944245",
       "rows": [
        [
         "country",
         "351"
        ],
        [
         "market_segment",
         "0"
        ],
        [
         "previous_cancellations",
         "0"
        ],
        [
         "booking_changes",
         "0"
        ],
        [
         "deposit_type",
         "0"
        ],
        [
         "days_in_waiting_list",
         "0"
        ],
        [
         "customer_type",
         "0"
        ],
        [
         "reserved_room_type",
         "0"
        ],
        [
         "required_car_parking_spaces",
         "0"
        ],
        [
         "total_of_special_requests",
         "0"
        ],
        [
         "is_canceled",
         "0"
        ]
       ],
       "shape": {
        "columns": 1,
        "rows": 11
       }
      },
      "text/plain": [
       "country                        351\n",
       "market_segment                   0\n",
       "previous_cancellations           0\n",
       "booking_changes                  0\n",
       "deposit_type                     0\n",
       "days_in_waiting_list             0\n",
       "customer_type                    0\n",
       "reserved_room_type               0\n",
       "required_car_parking_spaces      0\n",
       "total_of_special_requests        0\n",
       "is_canceled                      0\n",
       "dtype: int64"
      ]
     },
     "execution_count": 28,
     "metadata": {},
     "output_type": "execute_result"
    }
   ],
   "source": [
    "# Check missing value\n",
    "df.isna().sum()"
   ]
  },
  {
   "cell_type": "markdown",
   "id": "8deaf1fc",
   "metadata": {},
   "source": [
    "Missing countries will be replaced by Other further on.\n",
    "\n",
    "Outlier detection has already been done above, and the decision was to keep the outliers, as they are still considered important to the analysis."
   ]
  },
  {
   "cell_type": "code",
   "execution_count": 29,
   "id": "0b4593a7",
   "metadata": {},
   "outputs": [
    {
     "name": "stdout",
     "output_type": "stream",
     "text": [
      "Duplicate rows: 73371\n",
      "Duplicate percentage: 87.79%\n"
     ]
    }
   ],
   "source": [
    "# Check duplicates\n",
    "duplicate_count = df.duplicated().sum()\n",
    "duplicate_percent = (duplicate_count / len(df)) * 100\n",
    "\n",
    "print(f\"Duplicate rows: {duplicate_count}\")\n",
    "print(f\"Duplicate percentage: {duplicate_percent:.2f}%\")"
   ]
  },
  {
   "cell_type": "markdown",
   "id": "f1da3c0f",
   "metadata": {},
   "source": [
    "Duplicate acceptable, because same booking could happen multiple times"
   ]
  },
  {
   "cell_type": "code",
   "execution_count": 30,
   "id": "541c207f",
   "metadata": {},
   "outputs": [
    {
     "data": {
      "application/vnd.microsoft.datawrangler.viewer.v0+json": {
       "columns": [
        {
         "name": "is_canceled",
         "rawType": "int64",
         "type": "integer"
        },
        {
         "name": "count",
         "rawType": "int64",
         "type": "integer"
        }
       ],
       "ref": "4f0a2c2e-e14b-42c9-b37e-21905d49cc5a",
       "rows": [
        [
         "0",
         "52795"
        ],
        [
         "1",
         "30778"
        ]
       ],
       "shape": {
        "columns": 1,
        "rows": 2
       }
      },
      "text/plain": [
       "is_canceled\n",
       "0    52795\n",
       "1    30778\n",
       "Name: count, dtype: int64"
      ]
     },
     "execution_count": 30,
     "metadata": {},
     "output_type": "execute_result"
    }
   ],
   "source": [
    "df['is_canceled'].value_counts()"
   ]
  },
  {
   "cell_type": "markdown",
   "id": "52551a5c",
   "metadata": {},
   "source": [
    "There is class imbalance of not cancel (book): 52795 and cancel: 30778"
   ]
  },
  {
   "cell_type": "markdown",
   "id": "e3733bc3",
   "metadata": {},
   "source": [
    "# Data Preprocessing & Feature Engineering"
   ]
  },
  {
   "cell_type": "code",
   "execution_count": 31,
   "id": "b7673282",
   "metadata": {},
   "outputs": [
    {
     "name": "stdout",
     "output_type": "stream",
     "text": [
      "Missing value on country feature: 351\n"
     ]
    }
   ],
   "source": [
    "print(f\"Missing value on country feature: {df['country'].isnull().sum()}\")"
   ]
  },
  {
   "cell_type": "code",
   "execution_count": 32,
   "id": "09f9355c",
   "metadata": {},
   "outputs": [
    {
     "name": "stdout",
     "output_type": "stream",
     "text": [
      "Unique value on country feature: 162\n"
     ]
    }
   ],
   "source": [
    "print(f\"Unique value on country feature: {df['country'].nunique()}\")"
   ]
  },
  {
   "cell_type": "markdown",
   "id": "455c0a0d",
   "metadata": {},
   "source": [
    "The missing values in the country feature will be replaced with 'Other'. Since there are 162 unique countries, directly encoding all of them (e.g., using binary encoding) would reduce interpretability. To address this, feature engineering will be applied.\n",
    "\n",
    "Based on the public dataset (source: https://www.sciencedirect.com/science/article/pii/S2352340918315191), the hotel is located in Portugal, so it makes sense to group guests into three categories: \n",
    "\n",
    "- Portugal (local tourists), \n",
    "- Non-Portugal (international tourists), and \n",
    "- Other (unknown or missing)."
   ]
  },
  {
   "cell_type": "code",
   "execution_count": 33,
   "id": "39416548",
   "metadata": {},
   "outputs": [],
   "source": [
    "# Make just 3 types of country feature\n",
    "df['country'] = np.where(df['country'].isnull() == True, 'Other', np.where(df['country'] == 'PRT', 'Portugal', 'Non Portugal'))"
   ]
  },
  {
   "cell_type": "code",
   "execution_count": 34,
   "id": "40c6a73b",
   "metadata": {},
   "outputs": [
    {
     "name": "stdout",
     "output_type": "stream",
     "text": [
      "country\n",
      "Non Portugal    49125\n",
      "Portugal        34097\n",
      "Other             351\n",
      "Name: count, dtype: int64\n"
     ]
    }
   ],
   "source": [
    "# Checking\n",
    "print(df['country'].value_counts())"
   ]
  },
  {
   "cell_type": "code",
   "execution_count": 35,
   "id": "2ad687af",
   "metadata": {},
   "outputs": [
    {
     "name": "stdout",
     "output_type": "stream",
     "text": [
      "Missing value on country feature now: 0\n"
     ]
    }
   ],
   "source": [
    "# Rechecking\n",
    "print(f\"Missing value on country feature now: {df['country'].isnull().sum()}\")"
   ]
  },
  {
   "cell_type": "markdown",
   "id": "8f347db8",
   "metadata": {},
   "source": [
    "# Pipeline Starts Here"
   ]
  },
  {
   "cell_type": "code",
   "execution_count": 36,
   "id": "2e3b5232",
   "metadata": {},
   "outputs": [
    {
     "data": {
      "application/vnd.microsoft.datawrangler.viewer.v0+json": {
       "columns": [
        {
         "name": "index",
         "rawType": "int64",
         "type": "integer"
        },
        {
         "name": "country",
         "rawType": "object",
         "type": "string"
        },
        {
         "name": "market_segment",
         "rawType": "object",
         "type": "string"
        },
        {
         "name": "previous_cancellations",
         "rawType": "int64",
         "type": "integer"
        },
        {
         "name": "booking_changes",
         "rawType": "int64",
         "type": "integer"
        },
        {
         "name": "deposit_type",
         "rawType": "object",
         "type": "string"
        },
        {
         "name": "days_in_waiting_list",
         "rawType": "int64",
         "type": "integer"
        },
        {
         "name": "customer_type",
         "rawType": "object",
         "type": "string"
        },
        {
         "name": "reserved_room_type",
         "rawType": "object",
         "type": "string"
        },
        {
         "name": "required_car_parking_spaces",
         "rawType": "int64",
         "type": "integer"
        },
        {
         "name": "total_of_special_requests",
         "rawType": "int64",
         "type": "integer"
        },
        {
         "name": "is_canceled",
         "rawType": "int64",
         "type": "integer"
        }
       ],
       "ref": "9a0cef67-c67f-4b55-ad60-1148d8f22090",
       "rows": [
        [
         "0",
         "Non Portugal",
         "Offline TA/TO",
         "0",
         "0",
         "No Deposit",
         "0",
         "Transient-Party",
         "A",
         "0",
         "0",
         "0"
        ],
        [
         "1",
         "Non Portugal",
         "Online TA",
         "0",
         "0",
         "No Deposit",
         "0",
         "Transient",
         "A",
         "0",
         "2",
         "0"
        ],
        [
         "2",
         "Portugal",
         "Online TA",
         "0",
         "1",
         "No Deposit",
         "0",
         "Transient",
         "A",
         "0",
         "2",
         "0"
        ],
        [
         "3",
         "Non Portugal",
         "Online TA",
         "0",
         "0",
         "No Deposit",
         "0",
         "Transient",
         "A",
         "0",
         "1",
         "1"
        ],
        [
         "4",
         "Portugal",
         "Online TA",
         "0",
         "2",
         "No Deposit",
         "0",
         "Transient",
         "A",
         "0",
         "2",
         "0"
        ],
        [
         "5",
         "Non Portugal",
         "Direct",
         "0",
         "1",
         "No Deposit",
         "0",
         "Transient-Party",
         "A",
         "0",
         "1",
         "0"
        ],
        [
         "6",
         "Portugal",
         "Groups",
         "0",
         "0",
         "Non Refund",
         "0",
         "Transient",
         "A",
         "0",
         "0",
         "1"
        ],
        [
         "7",
         "Portugal",
         "Groups",
         "0",
         "0",
         "Non Refund",
         "0",
         "Transient",
         "A",
         "0",
         "0",
         "1"
        ],
        [
         "8",
         "Non Portugal",
         "Online TA",
         "0",
         "0",
         "No Deposit",
         "0",
         "Transient",
         "E",
         "0",
         "1",
         "1"
        ],
        [
         "9",
         "Portugal",
         "Groups",
         "1",
         "0",
         "Non Refund",
         "0",
         "Contract",
         "A",
         "0",
         "0",
         "1"
        ],
        [
         "10",
         "Non Portugal",
         "Groups",
         "0",
         "1",
         "No Deposit",
         "0",
         "Transient-Party",
         "A",
         "0",
         "1",
         "0"
        ],
        [
         "11",
         "Portugal",
         "Online TA",
         "0",
         "0",
         "No Deposit",
         "0",
         "Transient",
         "A",
         "0",
         "1",
         "0"
        ],
        [
         "12",
         "Portugal",
         "Groups",
         "1",
         "0",
         "Non Refund",
         "0",
         "Transient",
         "A",
         "0",
         "0",
         "1"
        ],
        [
         "13",
         "Non Portugal",
         "Online TA",
         "0",
         "0",
         "No Deposit",
         "0",
         "Transient",
         "E",
         "0",
         "0",
         "1"
        ],
        [
         "14",
         "Portugal",
         "Offline TA/TO",
         "0",
         "0",
         "Non Refund",
         "3",
         "Transient",
         "A",
         "0",
         "0",
         "1"
        ],
        [
         "15",
         "Non Portugal",
         "Direct",
         "0",
         "0",
         "No Deposit",
         "0",
         "Transient",
         "D",
         "1",
         "0",
         "0"
        ],
        [
         "16",
         "Non Portugal",
         "Offline TA/TO",
         "0",
         "1",
         "No Deposit",
         "0",
         "Transient-Party",
         "A",
         "0",
         "1",
         "0"
        ],
        [
         "17",
         "Non Portugal",
         "Online TA",
         "0",
         "1",
         "No Deposit",
         "0",
         "Transient",
         "A",
         "0",
         "1",
         "0"
        ],
        [
         "18",
         "Non Portugal",
         "Online TA",
         "0",
         "0",
         "No Deposit",
         "0",
         "Transient",
         "A",
         "0",
         "2",
         "0"
        ],
        [
         "19",
         "Non Portugal",
         "Offline TA/TO",
         "0",
         "0",
         "No Deposit",
         "0",
         "Transient",
         "A",
         "0",
         "0",
         "0"
        ],
        [
         "20",
         "Non Portugal",
         "Offline TA/TO",
         "0",
         "0",
         "No Deposit",
         "0",
         "Transient",
         "D",
         "0",
         "0",
         "0"
        ],
        [
         "21",
         "Non Portugal",
         "Online TA",
         "0",
         "0",
         "No Deposit",
         "0",
         "Transient",
         "A",
         "0",
         "1",
         "1"
        ],
        [
         "22",
         "Portugal",
         "Groups",
         "0",
         "0",
         "Non Refund",
         "0",
         "Transient",
         "A",
         "0",
         "0",
         "1"
        ],
        [
         "23",
         "Portugal",
         "Offline TA/TO",
         "0",
         "0",
         "Non Refund",
         "39",
         "Transient",
         "A",
         "0",
         "0",
         "1"
        ],
        [
         "24",
         "Portugal",
         "Groups",
         "0",
         "0",
         "No Deposit",
         "0",
         "Transient-Party",
         "A",
         "0",
         "0",
         "0"
        ],
        [
         "25",
         "Non Portugal",
         "Offline TA/TO",
         "0",
         "1",
         "No Deposit",
         "0",
         "Transient",
         "A",
         "0",
         "1",
         "0"
        ],
        [
         "26",
         "Non Portugal",
         "Offline TA/TO",
         "0",
         "0",
         "No Deposit",
         "0",
         "Transient",
         "D",
         "0",
         "0",
         "0"
        ],
        [
         "27",
         "Portugal",
         "Offline TA/TO",
         "0",
         "0",
         "Non Refund",
         "0",
         "Transient",
         "A",
         "0",
         "0",
         "1"
        ],
        [
         "28",
         "Non Portugal",
         "Online TA",
         "0",
         "2",
         "No Deposit",
         "0",
         "Transient",
         "A",
         "0",
         "2",
         "0"
        ],
        [
         "29",
         "Portugal",
         "Online TA",
         "0",
         "0",
         "No Deposit",
         "0",
         "Transient",
         "A",
         "0",
         "1",
         "0"
        ],
        [
         "30",
         "Non Portugal",
         "Groups",
         "0",
         "2",
         "No Deposit",
         "0",
         "Transient-Party",
         "A",
         "0",
         "0",
         "0"
        ],
        [
         "31",
         "Non Portugal",
         "Online TA",
         "0",
         "0",
         "No Deposit",
         "0",
         "Transient",
         "A",
         "0",
         "2",
         "1"
        ],
        [
         "32",
         "Portugal",
         "Offline TA/TO",
         "1",
         "0",
         "No Deposit",
         "0",
         "Transient",
         "A",
         "0",
         "0",
         "1"
        ],
        [
         "33",
         "Portugal",
         "Direct",
         "0",
         "0",
         "No Deposit",
         "0",
         "Transient",
         "A",
         "0",
         "0",
         "0"
        ],
        [
         "34",
         "Portugal",
         "Groups",
         "0",
         "0",
         "Non Refund",
         "0",
         "Transient",
         "A",
         "0",
         "0",
         "1"
        ],
        [
         "35",
         "Non Portugal",
         "Online TA",
         "0",
         "0",
         "No Deposit",
         "0",
         "Transient",
         "A",
         "0",
         "2",
         "1"
        ],
        [
         "36",
         "Portugal",
         "Offline TA/TO",
         "0",
         "0",
         "No Deposit",
         "0",
         "Transient-Party",
         "A",
         "0",
         "0",
         "1"
        ],
        [
         "37",
         "Non Portugal",
         "Online TA",
         "0",
         "0",
         "No Deposit",
         "0",
         "Transient-Party",
         "A",
         "0",
         "2",
         "0"
        ],
        [
         "38",
         "Non Portugal",
         "Online TA",
         "0",
         "0",
         "No Deposit",
         "0",
         "Transient",
         "F",
         "0",
         "1",
         "1"
        ],
        [
         "39",
         "Portugal",
         "Corporate",
         "0",
         "1",
         "No Deposit",
         "0",
         "Transient-Party",
         "A",
         "0",
         "0",
         "0"
        ],
        [
         "40",
         "Non Portugal",
         "Groups",
         "0",
         "0",
         "No Deposit",
         "0",
         "Transient-Party",
         "A",
         "0",
         "0",
         "0"
        ],
        [
         "41",
         "Non Portugal",
         "Offline TA/TO",
         "0",
         "0",
         "No Deposit",
         "0",
         "Transient-Party",
         "A",
         "0",
         "0",
         "0"
        ],
        [
         "42",
         "Portugal",
         "Complementary",
         "0",
         "0",
         "No Deposit",
         "0",
         "Transient",
         "B",
         "0",
         "1",
         "0"
        ],
        [
         "43",
         "Portugal",
         "Online TA",
         "0",
         "0",
         "No Deposit",
         "0",
         "Transient",
         "A",
         "1",
         "2",
         "0"
        ],
        [
         "44",
         "Portugal",
         "Groups",
         "0",
         "0",
         "Non Refund",
         "0",
         "Transient",
         "A",
         "0",
         "0",
         "1"
        ],
        [
         "45",
         "Portugal",
         "Offline TA/TO",
         "0",
         "0",
         "No Deposit",
         "0",
         "Transient-Party",
         "A",
         "0",
         "0",
         "1"
        ],
        [
         "46",
         "Non Portugal",
         "Online TA",
         "0",
         "0",
         "No Deposit",
         "0",
         "Transient",
         "A",
         "0",
         "0",
         "1"
        ],
        [
         "47",
         "Portugal",
         "Offline TA/TO",
         "0",
         "0",
         "No Deposit",
         "0",
         "Transient-Party",
         "A",
         "0",
         "0",
         "1"
        ],
        [
         "48",
         "Non Portugal",
         "Direct",
         "0",
         "0",
         "No Deposit",
         "0",
         "Transient",
         "E",
         "0",
         "2",
         "0"
        ],
        [
         "49",
         "Non Portugal",
         "Offline TA/TO",
         "0",
         "0",
         "No Deposit",
         "0",
         "Transient",
         "A",
         "0",
         "0",
         "0"
        ]
       ],
       "shape": {
        "columns": 11,
        "rows": 83573
       }
      },
      "text/html": [
       "<div>\n",
       "<style scoped>\n",
       "    .dataframe tbody tr th:only-of-type {\n",
       "        vertical-align: middle;\n",
       "    }\n",
       "\n",
       "    .dataframe tbody tr th {\n",
       "        vertical-align: top;\n",
       "    }\n",
       "\n",
       "    .dataframe thead th {\n",
       "        text-align: right;\n",
       "    }\n",
       "</style>\n",
       "<table border=\"1\" class=\"dataframe\">\n",
       "  <thead>\n",
       "    <tr style=\"text-align: right;\">\n",
       "      <th></th>\n",
       "      <th>country</th>\n",
       "      <th>market_segment</th>\n",
       "      <th>previous_cancellations</th>\n",
       "      <th>booking_changes</th>\n",
       "      <th>deposit_type</th>\n",
       "      <th>days_in_waiting_list</th>\n",
       "      <th>customer_type</th>\n",
       "      <th>reserved_room_type</th>\n",
       "      <th>required_car_parking_spaces</th>\n",
       "      <th>total_of_special_requests</th>\n",
       "      <th>is_canceled</th>\n",
       "    </tr>\n",
       "  </thead>\n",
       "  <tbody>\n",
       "    <tr>\n",
       "      <th>0</th>\n",
       "      <td>Non Portugal</td>\n",
       "      <td>Offline TA/TO</td>\n",
       "      <td>0</td>\n",
       "      <td>0</td>\n",
       "      <td>No Deposit</td>\n",
       "      <td>0</td>\n",
       "      <td>Transient-Party</td>\n",
       "      <td>A</td>\n",
       "      <td>0</td>\n",
       "      <td>0</td>\n",
       "      <td>0</td>\n",
       "    </tr>\n",
       "    <tr>\n",
       "      <th>1</th>\n",
       "      <td>Non Portugal</td>\n",
       "      <td>Online TA</td>\n",
       "      <td>0</td>\n",
       "      <td>0</td>\n",
       "      <td>No Deposit</td>\n",
       "      <td>0</td>\n",
       "      <td>Transient</td>\n",
       "      <td>A</td>\n",
       "      <td>0</td>\n",
       "      <td>2</td>\n",
       "      <td>0</td>\n",
       "    </tr>\n",
       "    <tr>\n",
       "      <th>2</th>\n",
       "      <td>Portugal</td>\n",
       "      <td>Online TA</td>\n",
       "      <td>0</td>\n",
       "      <td>1</td>\n",
       "      <td>No Deposit</td>\n",
       "      <td>0</td>\n",
       "      <td>Transient</td>\n",
       "      <td>A</td>\n",
       "      <td>0</td>\n",
       "      <td>2</td>\n",
       "      <td>0</td>\n",
       "    </tr>\n",
       "    <tr>\n",
       "      <th>3</th>\n",
       "      <td>Non Portugal</td>\n",
       "      <td>Online TA</td>\n",
       "      <td>0</td>\n",
       "      <td>0</td>\n",
       "      <td>No Deposit</td>\n",
       "      <td>0</td>\n",
       "      <td>Transient</td>\n",
       "      <td>A</td>\n",
       "      <td>0</td>\n",
       "      <td>1</td>\n",
       "      <td>1</td>\n",
       "    </tr>\n",
       "    <tr>\n",
       "      <th>4</th>\n",
       "      <td>Portugal</td>\n",
       "      <td>Online TA</td>\n",
       "      <td>0</td>\n",
       "      <td>2</td>\n",
       "      <td>No Deposit</td>\n",
       "      <td>0</td>\n",
       "      <td>Transient</td>\n",
       "      <td>A</td>\n",
       "      <td>0</td>\n",
       "      <td>2</td>\n",
       "      <td>0</td>\n",
       "    </tr>\n",
       "    <tr>\n",
       "      <th>...</th>\n",
       "      <td>...</td>\n",
       "      <td>...</td>\n",
       "      <td>...</td>\n",
       "      <td>...</td>\n",
       "      <td>...</td>\n",
       "      <td>...</td>\n",
       "      <td>...</td>\n",
       "      <td>...</td>\n",
       "      <td>...</td>\n",
       "      <td>...</td>\n",
       "      <td>...</td>\n",
       "    </tr>\n",
       "    <tr>\n",
       "      <th>83568</th>\n",
       "      <td>Portugal</td>\n",
       "      <td>Online TA</td>\n",
       "      <td>0</td>\n",
       "      <td>0</td>\n",
       "      <td>No Deposit</td>\n",
       "      <td>0</td>\n",
       "      <td>Contract</td>\n",
       "      <td>A</td>\n",
       "      <td>0</td>\n",
       "      <td>3</td>\n",
       "      <td>1</td>\n",
       "    </tr>\n",
       "    <tr>\n",
       "      <th>83569</th>\n",
       "      <td>Non Portugal</td>\n",
       "      <td>Online TA</td>\n",
       "      <td>0</td>\n",
       "      <td>0</td>\n",
       "      <td>No Deposit</td>\n",
       "      <td>0</td>\n",
       "      <td>Transient</td>\n",
       "      <td>D</td>\n",
       "      <td>0</td>\n",
       "      <td>2</td>\n",
       "      <td>0</td>\n",
       "    </tr>\n",
       "    <tr>\n",
       "      <th>83570</th>\n",
       "      <td>Portugal</td>\n",
       "      <td>Online TA</td>\n",
       "      <td>0</td>\n",
       "      <td>1</td>\n",
       "      <td>No Deposit</td>\n",
       "      <td>0</td>\n",
       "      <td>Transient</td>\n",
       "      <td>D</td>\n",
       "      <td>0</td>\n",
       "      <td>3</td>\n",
       "      <td>0</td>\n",
       "    </tr>\n",
       "    <tr>\n",
       "      <th>83571</th>\n",
       "      <td>Non Portugal</td>\n",
       "      <td>Offline TA/TO</td>\n",
       "      <td>0</td>\n",
       "      <td>0</td>\n",
       "      <td>No Deposit</td>\n",
       "      <td>0</td>\n",
       "      <td>Transient-Party</td>\n",
       "      <td>A</td>\n",
       "      <td>0</td>\n",
       "      <td>0</td>\n",
       "      <td>0</td>\n",
       "    </tr>\n",
       "    <tr>\n",
       "      <th>83572</th>\n",
       "      <td>Portugal</td>\n",
       "      <td>Groups</td>\n",
       "      <td>0</td>\n",
       "      <td>0</td>\n",
       "      <td>Non Refund</td>\n",
       "      <td>0</td>\n",
       "      <td>Transient</td>\n",
       "      <td>A</td>\n",
       "      <td>0</td>\n",
       "      <td>0</td>\n",
       "      <td>1</td>\n",
       "    </tr>\n",
       "  </tbody>\n",
       "</table>\n",
       "<p>83573 rows × 11 columns</p>\n",
       "</div>"
      ],
      "text/plain": [
       "            country market_segment  previous_cancellations  booking_changes  \\\n",
       "0      Non Portugal  Offline TA/TO                       0                0   \n",
       "1      Non Portugal      Online TA                       0                0   \n",
       "2          Portugal      Online TA                       0                1   \n",
       "3      Non Portugal      Online TA                       0                0   \n",
       "4          Portugal      Online TA                       0                2   \n",
       "...             ...            ...                     ...              ...   \n",
       "83568      Portugal      Online TA                       0                0   \n",
       "83569  Non Portugal      Online TA                       0                0   \n",
       "83570      Portugal      Online TA                       0                1   \n",
       "83571  Non Portugal  Offline TA/TO                       0                0   \n",
       "83572      Portugal         Groups                       0                0   \n",
       "\n",
       "      deposit_type  days_in_waiting_list    customer_type reserved_room_type  \\\n",
       "0       No Deposit                     0  Transient-Party                  A   \n",
       "1       No Deposit                     0        Transient                  A   \n",
       "2       No Deposit                     0        Transient                  A   \n",
       "3       No Deposit                     0        Transient                  A   \n",
       "4       No Deposit                     0        Transient                  A   \n",
       "...            ...                   ...              ...                ...   \n",
       "83568   No Deposit                     0         Contract                  A   \n",
       "83569   No Deposit                     0        Transient                  D   \n",
       "83570   No Deposit                     0        Transient                  D   \n",
       "83571   No Deposit                     0  Transient-Party                  A   \n",
       "83572   Non Refund                     0        Transient                  A   \n",
       "\n",
       "       required_car_parking_spaces  total_of_special_requests  is_canceled  \n",
       "0                                0                          0            0  \n",
       "1                                0                          2            0  \n",
       "2                                0                          2            0  \n",
       "3                                0                          1            1  \n",
       "4                                0                          2            0  \n",
       "...                            ...                        ...          ...  \n",
       "83568                            0                          3            1  \n",
       "83569                            0                          2            0  \n",
       "83570                            0                          3            0  \n",
       "83571                            0                          0            0  \n",
       "83572                            0                          0            1  \n",
       "\n",
       "[83573 rows x 11 columns]"
      ]
     },
     "execution_count": 36,
     "metadata": {},
     "output_type": "execute_result"
    }
   ],
   "source": [
    "df"
   ]
  },
  {
   "cell_type": "code",
   "execution_count": 37,
   "id": "4b7b753c",
   "metadata": {},
   "outputs": [],
   "source": [
    "from sklearn.pipeline import Pipeline\n",
    "from sklearn.compose import ColumnTransformer\n",
    "from sklearn.preprocessing import OneHotEncoder, RobustScaler, OrdinalEncoder\n",
    "from imblearn.pipeline import Pipeline as ImbPipeline\n",
    "\n",
    "# Example pipeline structure\n",
    "categorical_cols = ['country', 'customer_type', 'deposit_type', 'market_segment']\n",
    "categorical_cols_ord = ['reserved_room_type']\n",
    "numeric_cols = ['previous_cancellations','booking_changes','days_in_waiting_list','required_car_parking_spaces', 'total_of_special_requests']"
   ]
  },
  {
   "cell_type": "markdown",
   "id": "ce09488a",
   "metadata": {},
   "source": [
    "# Feature Splitting"
   ]
  },
  {
   "cell_type": "code",
   "execution_count": 38,
   "id": "28ef56e3",
   "metadata": {},
   "outputs": [],
   "source": [
    "X = df.drop(['is_canceled'], axis=1)\n",
    "y = df['is_canceled']"
   ]
  },
  {
   "cell_type": "markdown",
   "id": "2008b8f4",
   "metadata": {},
   "source": [
    "# Train-Test Splitting\n",
    "\n",
    "70% Train, 30% Test"
   ]
  },
  {
   "cell_type": "code",
   "execution_count": 39,
   "id": "23c5818a",
   "metadata": {},
   "outputs": [],
   "source": [
    "from sklearn.model_selection import train_test_split\n",
    "\n",
    "# Split data: 70% train, 30% test\n",
    "X_train, X_test, y_train, y_test = train_test_split(X, y, test_size=0.3, stratify=y, random_state=42)"
   ]
  },
  {
   "cell_type": "markdown",
   "id": "a3f37129",
   "metadata": {},
   "source": [
    "# Machine Learning Models"
   ]
  },
  {
   "cell_type": "markdown",
   "id": "e95b1c66",
   "metadata": {},
   "source": [
    "**The Models Explained**\n",
    "\n",
    "1. Logistic Regression\n",
    "\n",
    "    Logistic regression is a supervised learning algorithm which is mostly used for binary classification problems. Although \"regression\" contradicts with \"classification\", the focus here is on the word \"logistic\" referring to logistic function which does the classification task in this algorithm. Logistic regression is a simple yet very effective classification algorithm so it is commonly used for many binary classification tasks. Customer churn, spam email, website or ad click predictions are some examples of the areas where logistic regression offers a powerful solution.\n",
    "\n",
    "    The basis of logistic regression is the logistic function, also called the sigmoid function, which takes in any real valued number and maps it to a value between 0 and 1.\n",
    "\n",
    "    <img src=\"https://towardsdatascience.com/wp-content/uploads/2020/02/1kdnGMCPik_GJITfPRI35DA.png\">\n",
    "\n",
    "    Source: https://towardsdatascience.com/logistic-regression-explained-593e9ddb7c6c/\n",
    "\n",
    "2. Decision Tree\n",
    "\n",
    "    Decision trees are preferred for many applications, mainly due to their high explainability, but also due to the fact that they are relatively simple to set up and train, and the short time it takes to perform a prediction with a decision tree. Decision trees are natural to tabular data, and, in fact, they currently seem to outperform neural networks on that type of data (as opposed to images). Unlike neural networks, trees don’t require input normalization, since their training is not based on gradient descent and they have very few parameters to optimize on. They can even train on data with missing values, but nowadays this practice is less recommended, and missing values are usually imputed.\n",
    "\n",
    "    Among the well-known use-cases for decision trees are recommendation systems (what are your predicted movie preferences based on your past choices and other features, e.g. age, gender etc.) and search engines.\n",
    "\n",
    "    <img src=\"https://towardsdatascience.com/wp-content/uploads/2022/05/1oUzKoJLSobKLwxGwXXxtYg.png\">\n",
    "\n",
    "    Source: https://towardsdatascience.com/decision-trees-explained-d7678c43a59e/\n",
    "\n",
    "3. Random Forest\n",
    "\n",
    "   A Random Forest is an ensemble machine learning model that combines multiple decision trees. Each tree in the forest is trained on a random sample of the data (bootstrap sampling) and considers only a random subset of features when making splits (feature randomization).\n",
    "\n",
    "    For classification tasks, the forest predicts by majority voting among trees, while for regression tasks, it averages the predictions. The model’s strength comes from its \"wisdom of crowds\" approach – while individual trees might make errors, the collective decision-making process tends to average out these mistakes and arrive at more reliable predictions.\n",
    "\n",
    "    <img src=\"https://towardsdatascience.com/wp-content/uploads/2024/11/1FisK9hkTkWP2D92ANxAp9w-2048x2043.png\">\n",
    "\n",
    "    Source: https://towardsdatascience.com/random-forest-explained-a-visual-guide-with-code-examples-9f736a6e1b3c/\n",
    "\n",
    "4. AdaBoost\n",
    "\n",
    "    AdaBoost is an ensemble machine learning model that creates a sequence of weighted decision trees, typically using shallow trees (often just single-level \"stumps\"). Each tree is trained on the entire dataset, but with adaptive sample weights that give more importance to previously misclassified examples.\n",
    "\n",
    "    For classification tasks, AdaBoost combines the trees through a weighted voting system, where better-performing trees get more influence in the final decision.\n",
    "\n",
    "    The model’s strength comes from its adaptive learning process – while each simple tree might be a \"weak learner\" that performs only slightly better than random guessing, the weighted combination of trees creates a \"strong learner\" that progressively focuses on and corrects mistakes.\n",
    "\n",
    "    <img src=\"https://towardsdatascience.com/wp-content/uploads/2024/11/1HImcqWdiiQnr84PBGWjf5Q-964x1024.png\">\n",
    "\n",
    "    Source: https://towardsdatascience.com/adaboost-classifier-explained-a-visual-guide-with-code-examples-fc0f25326d7b/\n",
    "\n",
    "5. Gradient Boosting (GBM)\n",
    "\n",
    "   Gradient boosting is one of the most popular machine learning algorithms for tabular datasets. It is powerful enough to find any nonlinear relationship between your model target and features and has great usability that can deal with missing values, outliers, and high cardinality categorical values on your features without any special treatment. While you can build barebone gradient boosting trees using some popular libraries such as XGBoost or LightGBM without knowing any details of the algorithm, you still want to know how it works when you start tuning hyper-parameters, customizing the loss functions, etc., to get better quality on your model.\n",
    "\n",
    "    <img src=\"https://towardsdatascience.com/wp-content/uploads/2022/01/132xSZb7FIIxwFQeq9MKCgQ.png\">\n",
    "\n",
    "    Source: https://towardsdatascience.com/all-you-need-to-know-about-gradient-boosting-algorithm-part-1-regression-2520a34a502/\n",
    "\n",
    "6. Light GBM\n",
    "\n",
    "    Light GBM (Light Gradient Boosting Machine) is a machine learning framework built around the gradient boosting technique. It is intended for efficient and distributed training, making it especially suitable for huge datasets and high-dimensional data. Light GBM is notable for its speed, memory efficiency, and scalability, which are achieved via novel techniques like a histogram-based approach to feature binning and splitting.\n",
    "\n",
    "    Microsoft developed Light GBM, which is an open-source project. It was originally released in 2016. Light GBM was developed in response to the demand for a very efficient and scalable gradient boosting framework.\n",
    "\n",
    "    <img src=\"https://miro.medium.com/v2/resize:fit:1100/format:webp/1*7XXMAN4W0ERC279fnA4MnQ.png\">\n",
    "\n",
    "    Source: https://medium.com/@venkatyogesh003/unveiling-the-power-of-light-gbm-e3b46743a2b2\n",
    "\n",
    "7. XGBoost\n",
    "\n",
    "   XGBoost (eXtreme Gradient Boosting) is a distributed, open-source machine learning library that uses gradient boosted decision trees, a supervised learning boosting algorithm that makes use of gradient descent. It is known for its speed, efficiency and ability to scale well with large datasets.\n",
    "\n",
    "    Developed by Tianqi Chen from the University of Washington, XGBoost is an advanced implementation of gradient boosting with the same general framework; that is, it combines weak learner trees into strong learners by adding up residuals.\n",
    "\n",
    "    Source: https://www.ibm.com/think/topics/xgboost#:~:text=XGBoost%20(eXtreme%20Gradient%20Boosting)%20is,scale%20well%20with%20large%20datasets."
   ]
  },
  {
   "cell_type": "markdown",
   "id": "4790e3ad",
   "metadata": {},
   "source": [
    "# Running Model"
   ]
  },
  {
   "cell_type": "code",
   "execution_count": 40,
   "id": "5ff28179",
   "metadata": {},
   "outputs": [],
   "source": [
    "from sklearn.pipeline import Pipeline\n",
    "from imblearn.pipeline import Pipeline\n",
    "from sklearn.preprocessing import RobustScaler\n",
    "from sklearn.linear_model import LogisticRegression\n",
    "from sklearn.tree import DecisionTreeClassifier\n",
    "from sklearn.ensemble import RandomForestClassifier, AdaBoostClassifier, GradientBoostingClassifier\n",
    "from lightgbm import LGBMClassifier\n",
    "from xgboost import XGBClassifier\n",
    "from sklearn.metrics import make_scorer, fbeta_score\n",
    "\n",
    "import warnings\n",
    "warnings.filterwarnings('ignore')"
   ]
  },
  {
   "cell_type": "markdown",
   "id": "ad4b7eae",
   "metadata": {},
   "source": [
    "**Notes:**\n",
    "\n",
    "In this case, we prioritize models with **high recall and F2 score**, since both emphasize capturing cancellations effectively. This focus aligns well with the goal of predicting hotel booking cancellations, where identifying as many cancellations as possible is more important than precision."
   ]
  },
  {
   "cell_type": "code",
   "execution_count": 41,
   "id": "4b682ee7",
   "metadata": {},
   "outputs": [],
   "source": [
    "# Define preprocessors\n",
    "cat_ohe = OneHotEncoder(handle_unknown='ignore')\n",
    "cat_ord = Pipeline([\n",
    "    ('ordinal', OrdinalEncoder(handle_unknown='use_encoded_value', unknown_value=-1))\n",
    "])\n",
    "num_scaler = RobustScaler()\n",
    "\n",
    "# Full ColumnTransformer\n",
    "preprocessor = ColumnTransformer([\n",
    "    ('cat', cat_ohe, categorical_cols),\n",
    "    ('cat2', cat_ord, categorical_cols_ord),\n",
    "    ('num', num_scaler, numeric_cols)\n",
    "])\n"
   ]
  },
  {
   "cell_type": "markdown",
   "id": "927bfbb4",
   "metadata": {},
   "source": [
    "### RobustScaled only"
   ]
  },
  {
   "cell_type": "code",
   "execution_count": 42,
   "id": "ae409b57",
   "metadata": {},
   "outputs": [],
   "source": [
    "# Define custom F2 scorer\n",
    "f2_scorer_scaled = make_scorer(fbeta_score, beta=2, average='binary')\n",
    "\n",
    "models = {\n",
    "    'logreg': LogisticRegression(max_iter=1000),\n",
    "    'dt': DecisionTreeClassifier(),\n",
    "    'rf': RandomForestClassifier(),\n",
    "    'adaboost': AdaBoostClassifier(),\n",
    "    'gboost': GradientBoostingClassifier(),\n",
    "    'lgbm': LGBMClassifier(),\n",
    "    'xgb': XGBClassifier(use_label_encoder=False, eval_metric='logloss')\n",
    "}\n",
    "\n",
    "# Create pipelines for each model\n",
    "pipelines_scaled = {}\n",
    "for name, model in models.items():\n",
    "    pipelines_scaled[name] = ImbPipeline([\n",
    "        ('preprocessor', preprocessor),\n",
    "        ('model', model)\n",
    "    ])\n",
    "\n",
    "# full_pipeline_rs = ImbPipeline([\n",
    "#     ('preprocessor', preprocessor),\n",
    "#     ('model', XGBClassifier(use_label_encoder=False, eval_metric='logloss'))\n",
    "# ])\n",
    "\n",
    "# full_pipeline_rs.fit(X_train, y_train)"
   ]
  },
  {
   "cell_type": "code",
   "execution_count": 43,
   "id": "76ae92a1",
   "metadata": {},
   "outputs": [
    {
     "name": "stdout",
     "output_type": "stream",
     "text": [
      "[LightGBM] [Info] Number of positive: 17236, number of negative: 29564\n",
      "[LightGBM] [Info] Auto-choosing row-wise multi-threading, the overhead of testing was 0.005123 seconds.\n",
      "You can set `force_row_wise=true` to remove the overhead.\n",
      "And if memory is not enough, you can set `force_col_wise=true`.\n",
      "[LightGBM] [Info] Total Bins 170\n",
      "[LightGBM] [Info] Number of data points in the train set: 46800, number of used features: 23\n",
      "[LightGBM] [Info] [binary:BoostFromScore]: pavg=0.368291 -> initscore=-0.539557\n",
      "[LightGBM] [Info] Start training from score -0.539557\n",
      "[LightGBM] [Info] Number of positive: 17236, number of negative: 29565\n",
      "[LightGBM] [Info] Auto-choosing row-wise multi-threading, the overhead of testing was 0.003815 seconds.\n",
      "You can set `force_row_wise=true` to remove the overhead.\n",
      "And if memory is not enough, you can set `force_col_wise=true`.\n",
      "[LightGBM] [Info] Total Bins 165\n",
      "[LightGBM] [Info] Number of data points in the train set: 46801, number of used features: 23\n",
      "[LightGBM] [Info] [binary:BoostFromScore]: pavg=0.368283 -> initscore=-0.539591\n",
      "[LightGBM] [Info] Start training from score -0.539591\n",
      "[LightGBM] [Info] Number of positive: 17236, number of negative: 29565\n",
      "[LightGBM] [Info] Auto-choosing row-wise multi-threading, the overhead of testing was 0.003896 seconds.\n",
      "You can set `force_row_wise=true` to remove the overhead.\n",
      "And if memory is not enough, you can set `force_col_wise=true`.\n",
      "[LightGBM] [Info] Total Bins 168\n",
      "[LightGBM] [Info] Number of data points in the train set: 46801, number of used features: 23\n",
      "[LightGBM] [Info] [binary:BoostFromScore]: pavg=0.368283 -> initscore=-0.539591\n",
      "[LightGBM] [Info] Start training from score -0.539591\n",
      "[LightGBM] [Info] Number of positive: 17236, number of negative: 29565\n",
      "[LightGBM] [Info] Auto-choosing row-wise multi-threading, the overhead of testing was 0.003219 seconds.\n",
      "You can set `force_row_wise=true` to remove the overhead.\n",
      "And if memory is not enough, you can set `force_col_wise=true`.\n",
      "[LightGBM] [Info] Total Bins 171\n",
      "[LightGBM] [Info] Number of data points in the train set: 46801, number of used features: 23\n",
      "[LightGBM] [Info] [binary:BoostFromScore]: pavg=0.368283 -> initscore=-0.539591\n",
      "[LightGBM] [Info] Start training from score -0.539591\n",
      "[LightGBM] [Info] Number of positive: 17236, number of negative: 29565\n",
      "[LightGBM] [Info] Auto-choosing row-wise multi-threading, the overhead of testing was 0.003727 seconds.\n",
      "You can set `force_row_wise=true` to remove the overhead.\n",
      "And if memory is not enough, you can set `force_col_wise=true`.\n",
      "[LightGBM] [Info] Total Bins 166\n",
      "[LightGBM] [Info] Number of data points in the train set: 46801, number of used features: 23\n",
      "[LightGBM] [Info] [binary:BoostFromScore]: pavg=0.368283 -> initscore=-0.539591\n",
      "[LightGBM] [Info] Start training from score -0.539591\n"
     ]
    }
   ],
   "source": [
    "from sklearn.model_selection import cross_val_score\n",
    "\n",
    "# Initialize empty list to store results\n",
    "model_scores = []\n",
    "\n",
    "# Loop through pipelines and calculate F2 score\n",
    "for name, pipe in pipelines_scaled.items():\n",
    "    scores = cross_val_score(pipe, X_train, y_train, cv=5, scoring=f2_scorer_scaled)\n",
    "    avg_score = scores.mean()\n",
    "    model_scores.append({'Model': name.upper(), 'F2 Score': avg_score})\n",
    "\n",
    "# Convert to DataFrame\n",
    "df_model_scores = pd.DataFrame(model_scores).sort_values(by='F2 Score', ascending=False)"
   ]
  },
  {
   "cell_type": "code",
   "execution_count": 44,
   "id": "2942d8ed",
   "metadata": {},
   "outputs": [
    {
     "name": "stdout",
     "output_type": "stream",
     "text": [
      "      Model  F2 Score\n",
      "2        RF  0.718046\n",
      "1        DT  0.715859\n",
      "6       XGB  0.711441\n",
      "5      LGBM  0.710159\n",
      "4    GBOOST  0.679695\n",
      "0    LOGREG  0.574886\n",
      "3  ADABOOST  0.516290\n"
     ]
    }
   ],
   "source": [
    "# Display the DataFrame\n",
    "print(df_model_scores)"
   ]
  },
  {
   "cell_type": "code",
   "execution_count": 45,
   "id": "99c593ff",
   "metadata": {},
   "outputs": [
    {
     "name": "stdout",
     "output_type": "stream",
     "text": [
      "Top 3 Model (RobustScaled):\n",
      "\n",
      "  Model  F2 Score\n",
      "2    RF  0.718046\n",
      "1    DT  0.715859\n",
      "6   XGB  0.711441\n"
     ]
    }
   ],
   "source": [
    "top3_models = df_model_scores.head(3)\n",
    "print(f\"Top 3 Model (RobustScaled):\\n\\n{top3_models}\")"
   ]
  },
  {
   "cell_type": "markdown",
   "id": "843f3f19",
   "metadata": {},
   "source": [
    "### RobustScaled + SMOTE"
   ]
  },
  {
   "cell_type": "code",
   "execution_count": 46,
   "id": "cab591c4",
   "metadata": {},
   "outputs": [],
   "source": [
    "from imblearn.over_sampling import SMOTE\n",
    "\n",
    "# Define custom F2 scorer\n",
    "f2_scorer_sc_smote = make_scorer(fbeta_score, beta=2, average='binary')\n",
    "\n",
    "# Define models\n",
    "models = {\n",
    "    'logreg': LogisticRegression(max_iter=1000),\n",
    "    'dt': DecisionTreeClassifier(),\n",
    "    'rf': RandomForestClassifier(),\n",
    "    'adaboost': AdaBoostClassifier(),\n",
    "    'gboost': GradientBoostingClassifier(),\n",
    "    'lgbm': LGBMClassifier(),\n",
    "    'xgb': XGBClassifier(use_label_encoder=False, eval_metric='logloss')\n",
    "}\n",
    "\n",
    "# Create pipelines for each model\n",
    "pipelines_sc_smote = {}\n",
    "for name, model in models.items():\n",
    "    pipelines_sc_smote[name] = Pipeline([\n",
    "        ('preprocessor', preprocessor),\n",
    "        ('smote', SMOTE(random_state=42)),\n",
    "        ('model', model)\n",
    "    ])"
   ]
  },
  {
   "cell_type": "code",
   "execution_count": 47,
   "id": "a6d83d65",
   "metadata": {},
   "outputs": [
    {
     "name": "stdout",
     "output_type": "stream",
     "text": [
      "[LightGBM] [Info] Number of positive: 29564, number of negative: 29564\n",
      "[LightGBM] [Info] Auto-choosing row-wise multi-threading, the overhead of testing was 0.005005 seconds.\n",
      "You can set `force_row_wise=true` to remove the overhead.\n",
      "And if memory is not enough, you can set `force_col_wise=true`.\n",
      "[LightGBM] [Info] Total Bins 421\n",
      "[LightGBM] [Info] Number of data points in the train set: 59128, number of used features: 23\n",
      "[LightGBM] [Info] [binary:BoostFromScore]: pavg=0.500000 -> initscore=0.000000\n",
      "[LightGBM] [Info] Number of positive: 29565, number of negative: 29565\n",
      "[LightGBM] [Info] Auto-choosing row-wise multi-threading, the overhead of testing was 0.005124 seconds.\n",
      "You can set `force_row_wise=true` to remove the overhead.\n",
      "And if memory is not enough, you can set `force_col_wise=true`.\n",
      "[LightGBM] [Info] Total Bins 400\n",
      "[LightGBM] [Info] Number of data points in the train set: 59130, number of used features: 23\n",
      "[LightGBM] [Info] [binary:BoostFromScore]: pavg=0.500000 -> initscore=0.000000\n",
      "[LightGBM] [Info] Number of positive: 29565, number of negative: 29565\n",
      "[LightGBM] [Info] Auto-choosing row-wise multi-threading, the overhead of testing was 0.004902 seconds.\n",
      "You can set `force_row_wise=true` to remove the overhead.\n",
      "And if memory is not enough, you can set `force_col_wise=true`.\n",
      "[LightGBM] [Info] Total Bins 404\n",
      "[LightGBM] [Info] Number of data points in the train set: 59130, number of used features: 23\n",
      "[LightGBM] [Info] [binary:BoostFromScore]: pavg=0.500000 -> initscore=0.000000\n",
      "[LightGBM] [Info] Number of positive: 29565, number of negative: 29565\n",
      "[LightGBM] [Info] Auto-choosing row-wise multi-threading, the overhead of testing was 0.004172 seconds.\n",
      "You can set `force_row_wise=true` to remove the overhead.\n",
      "And if memory is not enough, you can set `force_col_wise=true`.\n",
      "[LightGBM] [Info] Total Bins 400\n",
      "[LightGBM] [Info] Number of data points in the train set: 59130, number of used features: 23\n",
      "[LightGBM] [Info] [binary:BoostFromScore]: pavg=0.500000 -> initscore=0.000000\n",
      "[LightGBM] [Info] Number of positive: 29565, number of negative: 29565\n",
      "[LightGBM] [Info] Auto-choosing row-wise multi-threading, the overhead of testing was 0.005029 seconds.\n",
      "You can set `force_row_wise=true` to remove the overhead.\n",
      "And if memory is not enough, you can set `force_col_wise=true`.\n",
      "[LightGBM] [Info] Total Bins 394\n",
      "[LightGBM] [Info] Number of data points in the train set: 59130, number of used features: 23\n",
      "[LightGBM] [Info] [binary:BoostFromScore]: pavg=0.500000 -> initscore=0.000000\n"
     ]
    }
   ],
   "source": [
    "# Initialize empty list to store results\n",
    "model_scores2 = []\n",
    "\n",
    "# Loop through pipelines and calculate F2 score\n",
    "for name, pipe in pipelines_sc_smote.items():\n",
    "    scores = cross_val_score(pipe, X_train, y_train, cv=5, scoring=f2_scorer_sc_smote)\n",
    "    avg_score = scores.mean()\n",
    "    model_scores2.append({'Model': name.upper(), 'F2 Score': avg_score})\n",
    "\n",
    "# Convert to DataFrame\n",
    "df_model_scores2 = pd.DataFrame(model_scores2).sort_values(by='F2 Score', ascending=False)"
   ]
  },
  {
   "cell_type": "code",
   "execution_count": 48,
   "id": "740de8f9",
   "metadata": {},
   "outputs": [
    {
     "name": "stdout",
     "output_type": "stream",
     "text": [
      "      Model  F2 Score\n",
      "5      LGBM  0.757273\n",
      "6       XGB  0.757118\n",
      "2        RF  0.755851\n",
      "1        DT  0.754352\n",
      "4    GBOOST  0.754212\n",
      "0    LOGREG  0.732503\n",
      "3  ADABOOST  0.687408\n"
     ]
    }
   ],
   "source": [
    "# Display the DataFrame\n",
    "print(df_model_scores2)"
   ]
  },
  {
   "cell_type": "code",
   "execution_count": 49,
   "id": "ded41317",
   "metadata": {},
   "outputs": [
    {
     "name": "stdout",
     "output_type": "stream",
     "text": [
      "Top 3 Model (RobustScaled, SMOTE):\n",
      "\n",
      "  Model  F2 Score\n",
      "5  LGBM  0.757273\n",
      "6   XGB  0.757118\n",
      "2    RF  0.755851\n"
     ]
    }
   ],
   "source": [
    "top3_models2 = df_model_scores2.head(3)\n",
    "print(f\"Top 3 Model (RobustScaled, SMOTE):\\n\\n{top3_models2}\")"
   ]
  },
  {
   "cell_type": "markdown",
   "id": "7a4addd9",
   "metadata": {},
   "source": [
    "# Hyperparameter Tuning\n",
    "\n",
    "### RobustScaled + SMOTE + Tuning"
   ]
  },
  {
   "cell_type": "markdown",
   "id": "776910bf",
   "metadata": {},
   "source": [
    "#### LightGBM Tuned"
   ]
  },
  {
   "cell_type": "code",
   "execution_count": 50,
   "id": "9fbbaff1",
   "metadata": {},
   "outputs": [],
   "source": [
    "# from sklearn.model_selection import GridSearchCV, RandomizedSearchCV\n",
    "# from sklearn.metrics import make_scorer, fbeta_score\n",
    "\n",
    "# full_pipeline_lgbm_tuned = ImbPipeline([\n",
    "#     ('preprocessor', preprocessor),\n",
    "#     ('smote', SMOTE(random_state=42)),\n",
    "#     ('model', LGBMClassifier(random_state=42))\n",
    "# ])\n",
    "\n",
    "# # Define hyperparameter grid\n",
    "# param_grid_lgbm = {\n",
    "#     'model__n_estimators': [100, 200, 300],\n",
    "#     'model__learning_rate': [0.01, 0.05, 0.1],\n",
    "#     'model__max_depth': [3, 5, 7],\n",
    "#     'model__num_leaves': [15, 31, 50, 100],\n",
    "#     'model__min_child_samples': [10, 20, 30],\n",
    "#     'model__subsample': [0.6, 0.8, 1.0],\n",
    "#     'model__colsample_bytree': [0.6, 0.8, 1.0],\n",
    "#     'model__reg_alpha': [0, 0.1, 1],\n",
    "#     'model__reg_lambda': [0, 0.1, 1]\n",
    "#     }\n",
    "\n",
    "# # Define F2 scorer\n",
    "# f2_scorer_lgbm = make_scorer(fbeta_score, beta=2)\n",
    "\n",
    "# lgbm_tuned = RandomizedSearchCV(estimator= full_pipeline_lgbm_tuned,\n",
    "#     param_distributions= param_grid_lgbm, cv= 5, scoring= f2_scorer_lgbm,\n",
    "#     n_jobs= -1, n_iter= 100, random_state= 42)\n",
    "\n",
    "# lgbm_tuned.fit(X_train, y_train)"
   ]
  },
  {
   "cell_type": "code",
   "execution_count": 51,
   "id": "5c8e9fda",
   "metadata": {},
   "outputs": [],
   "source": [
    "# y_pred_lgbm = lgbm_tuned.predict(X_test)\n",
    "\n",
    "# lgbm_tuned.best_params_"
   ]
  },
  {
   "cell_type": "code",
   "execution_count": 52,
   "id": "b14c3392",
   "metadata": {},
   "outputs": [],
   "source": [
    "# print(lgbm_tuned.best_score_)"
   ]
  },
  {
   "cell_type": "markdown",
   "id": "f0f43f0b",
   "metadata": {},
   "source": [
    "LGBM Tuned Parameters"
   ]
  },
  {
   "cell_type": "code",
   "execution_count": 53,
   "id": "8e17f717",
   "metadata": {},
   "outputs": [
    {
     "name": "stdout",
     "output_type": "stream",
     "text": [
      "[LightGBM] [Info] Number of positive: 36956, number of negative: 36956\n",
      "[LightGBM] [Info] Auto-choosing row-wise multi-threading, the overhead of testing was 0.006077 seconds.\n",
      "You can set `force_row_wise=true` to remove the overhead.\n",
      "And if memory is not enough, you can set `force_col_wise=true`.\n",
      "[LightGBM] [Info] Total Bins 430\n",
      "[LightGBM] [Info] Number of data points in the train set: 73912, number of used features: 23\n",
      "[LightGBM] [Info] [binary:BoostFromScore]: pavg=0.500000 -> initscore=0.000000\n",
      "[LightGBM] [Warning] No further splits with positive gain, best gain: -inf\n",
      "[LightGBM] [Warning] No further splits with positive gain, best gain: -inf\n",
      "[LightGBM] [Warning] No further splits with positive gain, best gain: -inf\n",
      "[LightGBM] [Warning] No further splits with positive gain, best gain: -inf\n",
      "[LightGBM] [Warning] No further splits with positive gain, best gain: -inf\n",
      "[LightGBM] [Warning] No further splits with positive gain, best gain: -inf\n",
      "[LightGBM] [Warning] No further splits with positive gain, best gain: -inf\n",
      "[LightGBM] [Warning] No further splits with positive gain, best gain: -inf\n",
      "[LightGBM] [Warning] No further splits with positive gain, best gain: -inf\n",
      "[LightGBM] [Warning] No further splits with positive gain, best gain: -inf\n",
      "[LightGBM] [Warning] No further splits with positive gain, best gain: -inf\n",
      "[LightGBM] [Warning] No further splits with positive gain, best gain: -inf\n",
      "[LightGBM] [Warning] No further splits with positive gain, best gain: -inf\n",
      "[LightGBM] [Warning] No further splits with positive gain, best gain: -inf\n",
      "[LightGBM] [Warning] No further splits with positive gain, best gain: -inf\n",
      "[LightGBM] [Warning] No further splits with positive gain, best gain: -inf\n",
      "[LightGBM] [Warning] No further splits with positive gain, best gain: -inf\n",
      "[LightGBM] [Warning] No further splits with positive gain, best gain: -inf\n",
      "[LightGBM] [Warning] No further splits with positive gain, best gain: -inf\n",
      "[LightGBM] [Warning] No further splits with positive gain, best gain: -inf\n",
      "[LightGBM] [Warning] No further splits with positive gain, best gain: -inf\n",
      "[LightGBM] [Warning] No further splits with positive gain, best gain: -inf\n",
      "[LightGBM] [Warning] No further splits with positive gain, best gain: -inf\n",
      "[LightGBM] [Warning] No further splits with positive gain, best gain: -inf\n",
      "[LightGBM] [Warning] No further splits with positive gain, best gain: -inf\n",
      "[LightGBM] [Warning] No further splits with positive gain, best gain: -inf\n",
      "[LightGBM] [Warning] No further splits with positive gain, best gain: -inf\n",
      "[LightGBM] [Warning] No further splits with positive gain, best gain: -inf\n",
      "[LightGBM] [Warning] No further splits with positive gain, best gain: -inf\n",
      "[LightGBM] [Warning] No further splits with positive gain, best gain: -inf\n",
      "[LightGBM] [Warning] No further splits with positive gain, best gain: -inf\n",
      "[LightGBM] [Warning] No further splits with positive gain, best gain: -inf\n",
      "[LightGBM] [Warning] No further splits with positive gain, best gain: -inf\n",
      "[LightGBM] [Warning] No further splits with positive gain, best gain: -inf\n",
      "[LightGBM] [Warning] No further splits with positive gain, best gain: -inf\n",
      "[LightGBM] [Warning] No further splits with positive gain, best gain: -inf\n",
      "[LightGBM] [Warning] No further splits with positive gain, best gain: -inf\n",
      "[LightGBM] [Warning] No further splits with positive gain, best gain: -inf\n",
      "[LightGBM] [Warning] No further splits with positive gain, best gain: -inf\n",
      "[LightGBM] [Warning] No further splits with positive gain, best gain: -inf\n",
      "[LightGBM] [Warning] No further splits with positive gain, best gain: -inf\n",
      "[LightGBM] [Warning] No further splits with positive gain, best gain: -inf\n",
      "[LightGBM] [Warning] No further splits with positive gain, best gain: -inf\n",
      "[LightGBM] [Warning] No further splits with positive gain, best gain: -inf\n",
      "[LightGBM] [Warning] No further splits with positive gain, best gain: -inf\n",
      "[LightGBM] [Warning] No further splits with positive gain, best gain: -inf\n",
      "[LightGBM] [Warning] No further splits with positive gain, best gain: -inf\n",
      "[LightGBM] [Warning] No further splits with positive gain, best gain: -inf\n",
      "[LightGBM] [Warning] No further splits with positive gain, best gain: -inf\n",
      "[LightGBM] [Warning] No further splits with positive gain, best gain: -inf\n",
      "[LightGBM] [Warning] No further splits with positive gain, best gain: -inf\n",
      "[LightGBM] [Warning] No further splits with positive gain, best gain: -inf\n",
      "[LightGBM] [Warning] No further splits with positive gain, best gain: -inf\n",
      "[LightGBM] [Warning] No further splits with positive gain, best gain: -inf\n",
      "[LightGBM] [Warning] No further splits with positive gain, best gain: -inf\n",
      "[LightGBM] [Warning] No further splits with positive gain, best gain: -inf\n",
      "[LightGBM] [Warning] No further splits with positive gain, best gain: -inf\n",
      "[LightGBM] [Warning] No further splits with positive gain, best gain: -inf\n",
      "[LightGBM] [Warning] No further splits with positive gain, best gain: -inf\n",
      "[LightGBM] [Warning] No further splits with positive gain, best gain: -inf\n",
      "[LightGBM] [Warning] No further splits with positive gain, best gain: -inf\n",
      "[LightGBM] [Warning] No further splits with positive gain, best gain: -inf\n",
      "[LightGBM] [Warning] No further splits with positive gain, best gain: -inf\n",
      "[LightGBM] [Warning] No further splits with positive gain, best gain: -inf\n",
      "[LightGBM] [Warning] No further splits with positive gain, best gain: -inf\n",
      "[LightGBM] [Warning] No further splits with positive gain, best gain: -inf\n",
      "[LightGBM] [Warning] No further splits with positive gain, best gain: -inf\n",
      "[LightGBM] [Warning] No further splits with positive gain, best gain: -inf\n",
      "[LightGBM] [Warning] No further splits with positive gain, best gain: -inf\n",
      "[LightGBM] [Warning] No further splits with positive gain, best gain: -inf\n",
      "[LightGBM] [Warning] No further splits with positive gain, best gain: -inf\n",
      "[LightGBM] [Warning] No further splits with positive gain, best gain: -inf\n",
      "[LightGBM] [Warning] No further splits with positive gain, best gain: -inf\n",
      "[LightGBM] [Warning] No further splits with positive gain, best gain: -inf\n",
      "[LightGBM] [Warning] No further splits with positive gain, best gain: -inf\n",
      "[LightGBM] [Warning] No further splits with positive gain, best gain: -inf\n",
      "[LightGBM] [Warning] No further splits with positive gain, best gain: -inf\n",
      "[LightGBM] [Warning] No further splits with positive gain, best gain: -inf\n",
      "[LightGBM] [Warning] No further splits with positive gain, best gain: -inf\n",
      "[LightGBM] [Warning] No further splits with positive gain, best gain: -inf\n",
      "[LightGBM] [Warning] No further splits with positive gain, best gain: -inf\n",
      "[LightGBM] [Warning] No further splits with positive gain, best gain: -inf\n",
      "[LightGBM] [Warning] No further splits with positive gain, best gain: -inf\n",
      "[LightGBM] [Warning] No further splits with positive gain, best gain: -inf\n",
      "[LightGBM] [Warning] No further splits with positive gain, best gain: -inf\n",
      "[LightGBM] [Warning] No further splits with positive gain, best gain: -inf\n",
      "[LightGBM] [Warning] No further splits with positive gain, best gain: -inf\n",
      "[LightGBM] [Warning] No further splits with positive gain, best gain: -inf\n",
      "[LightGBM] [Warning] No further splits with positive gain, best gain: -inf\n",
      "[LightGBM] [Warning] No further splits with positive gain, best gain: -inf\n",
      "[LightGBM] [Warning] No further splits with positive gain, best gain: -inf\n",
      "[LightGBM] [Warning] No further splits with positive gain, best gain: -inf\n",
      "[LightGBM] [Warning] No further splits with positive gain, best gain: -inf\n",
      "[LightGBM] [Warning] No further splits with positive gain, best gain: -inf\n",
      "[LightGBM] [Warning] No further splits with positive gain, best gain: -inf\n"
     ]
    }
   ],
   "source": [
    "from sklearn.metrics import fbeta_score\n",
    "\n",
    "# Create pipeline with tuned params\n",
    "lgbm_tuned = ImbPipeline([\n",
    "    ('preprocessor', preprocessor),\n",
    "    ('smote', SMOTE(random_state=42)),\n",
    "    ('model', LGBMClassifier(\n",
    "        subsample=0.8,\n",
    "        reg_lambda=0,\n",
    "        reg_alpha=1,\n",
    "        num_leaves=15,\n",
    "        n_estimators=300,\n",
    "        min_child_samples=10,\n",
    "        max_depth=5,\n",
    "        learning_rate=0.1,\n",
    "        colsample_bytree=0.8,\n",
    "        random_state=42\n",
    "    ))\n",
    "])\n",
    "\n",
    "# Fit to training data\n",
    "lgbm_tuned.fit(X_train, y_train)\n",
    "\n",
    "# Predict on test set\n",
    "y_pred_lgbm = lgbm_tuned.predict(X_test)"
   ]
  },
  {
   "cell_type": "code",
   "execution_count": 54,
   "id": "285391a1",
   "metadata": {},
   "outputs": [
    {
     "data": {
      "text/plain": [
       "0.7533676323036527"
      ]
     },
     "execution_count": 54,
     "metadata": {},
     "output_type": "execute_result"
    }
   ],
   "source": [
    "# Evaluate F2 score\n",
    "f2_lgbm_tuned = fbeta_score(y_test, y_pred_lgbm, beta=2)\n",
    "f2_lgbm_tuned"
   ]
  },
  {
   "cell_type": "markdown",
   "id": "edce911c",
   "metadata": {},
   "source": [
    "##### XGB Tuned"
   ]
  },
  {
   "cell_type": "code",
   "execution_count": 55,
   "id": "a6d9a6a1",
   "metadata": {},
   "outputs": [],
   "source": [
    "# from sklearn.model_selection import GridSearchCV, RandomizedSearchCV\n",
    "# from sklearn.metrics import make_scorer, fbeta_score\n",
    "\n",
    "# full_pipeline_xgb_tuned = ImbPipeline([\n",
    "#     ('preprocessor', preprocessor),\n",
    "#     ('smote', SMOTE(random_state=42)),\n",
    "#     ('model', XGBClassifier(random_state=42, use_label_encoder=False, eval_metric='logloss'))\n",
    "# ])\n",
    "\n",
    "# # Define hyperparameter grid\n",
    "# param_grid_xgb = {\n",
    "#     'model__n_estimators': [100, 200, 300],\n",
    "#     'model__max_depth': [3, 5, 7, 10],\n",
    "#     'model__learning_rate': [0.01, 0.1, 0.2],\n",
    "#     'model__subsample': [0.6, 0.8, 1.0],\n",
    "#     'model__colsample_bytree': [0.6, 0.8, 1.0],\n",
    "#     'model__gamma': [0, 1, 5],\n",
    "#     'model__min_child_weight': [1, 5, 10]\n",
    "#     }\n",
    "\n",
    "# # Define F2 scorer\n",
    "# f2_scorer_xgb = make_scorer(fbeta_score, beta=2)\n",
    "\n",
    "# xgb_tuned = RandomizedSearchCV(estimator= full_pipeline_xgb_tuned,\n",
    "#     param_distributions= param_grid_xgb, cv= 5, scoring= f2_scorer_xgb,\n",
    "#     n_jobs= -1, n_iter= 100, random_state= 42)\n",
    "\n",
    "# xgb_tuned.fit(X_train, y_train)"
   ]
  },
  {
   "cell_type": "code",
   "execution_count": 56,
   "id": "e789d087",
   "metadata": {},
   "outputs": [],
   "source": [
    "# y_pred_xgb = xgb_tuned.predict(X_test)\n",
    "\n",
    "# xgb_tuned.best_params_"
   ]
  },
  {
   "cell_type": "code",
   "execution_count": 57,
   "id": "97e79e12",
   "metadata": {},
   "outputs": [],
   "source": [
    "# print(xgb_tuned.best_score_)"
   ]
  },
  {
   "cell_type": "markdown",
   "id": "ef8a79e0",
   "metadata": {},
   "source": [
    "XGB Tuned Parameters"
   ]
  },
  {
   "cell_type": "code",
   "execution_count": 58,
   "id": "082416a7",
   "metadata": {},
   "outputs": [],
   "source": [
    "# Create pipeline with tuned params\n",
    "xgb_tuned = ImbPipeline([\n",
    "    ('preprocessor', preprocessor),\n",
    "    ('smote', SMOTE(random_state=42)),\n",
    "    ('model', XGBClassifier(\n",
    "        subsample= 0.6,\n",
    "        n_estimators= 200,\n",
    "        min_child_weight= 5,\n",
    "        max_depth= 5,\n",
    "        learning_rate= 0.1,\n",
    "        gamma= 1,\n",
    "        colsample_bytree= 1.0\n",
    "    ))\n",
    "])\n",
    "\n",
    "# Fit to training data\n",
    "xgb_tuned.fit(X_train, y_train)\n",
    "\n",
    "# Predict on test set\n",
    "y_pred_xgb = xgb_tuned.predict(X_test)"
   ]
  },
  {
   "cell_type": "code",
   "execution_count": 59,
   "id": "9c3ba2a3",
   "metadata": {},
   "outputs": [
    {
     "data": {
      "text/plain": [
       "0.7533135551618894"
      ]
     },
     "execution_count": 59,
     "metadata": {},
     "output_type": "execute_result"
    }
   ],
   "source": [
    "# Evaluate F2 score\n",
    "f2_xgb_tuned = fbeta_score(y_test, y_pred_xgb, beta=2)\n",
    "f2_xgb_tuned"
   ]
  },
  {
   "cell_type": "markdown",
   "id": "33c68ba9",
   "metadata": {},
   "source": [
    "#### Random Forest Tuned"
   ]
  },
  {
   "cell_type": "code",
   "execution_count": 60,
   "id": "484a18cc",
   "metadata": {},
   "outputs": [],
   "source": [
    "# from sklearn.model_selection import GridSearchCV, RandomizedSearchCV\n",
    "# from sklearn.metrics import make_scorer, fbeta_score\n",
    "\n",
    "# full_pipeline_rf_tuned = ImbPipeline([\n",
    "#     ('preprocessor', preprocessor),\n",
    "#     ('smote', SMOTE(random_state=42)),\n",
    "#     ('model', RandomForestClassifier(random_state=42))\n",
    "# ])\n",
    "\n",
    "# # Define hyperparameter grid\n",
    "# param_grid_rf = {\n",
    "#     'model__max_depth': [10, 20, None],\n",
    "#     'model__min_samples_split': [2, 5],\n",
    "#     'model__n_estimators': [100, 200],\n",
    "#     'model__criterion': ['gini', 'entropy'],\n",
    "#     'model__class_weight': ['balanced', 'balanced_subsample', None],\n",
    "#     'model__min_samples_leaf': [1, 2]\n",
    "#     }\n",
    "\n",
    "# # Define F2 scorer\n",
    "# f2_scorer_rf = make_scorer(fbeta_score, beta=2)\n",
    "\n",
    "# rf_tuned = RandomizedSearchCV(estimator= full_pipeline_rf_tuned,\n",
    "#     param_distributions= param_grid_rf, cv= 5, scoring= f2_scorer_rf,\n",
    "#     n_jobs= -1, n_iter= 100, random_state= 42)\n",
    "\n",
    "# rf_tuned.fit(X_train, y_train)"
   ]
  },
  {
   "cell_type": "code",
   "execution_count": 61,
   "id": "dfcad14a",
   "metadata": {},
   "outputs": [],
   "source": [
    "# y_pred_rf = rf_tuned.predict(X_test)\n",
    "\n",
    "# rf_tuned.best_params_"
   ]
  },
  {
   "cell_type": "code",
   "execution_count": 62,
   "id": "15be7f34",
   "metadata": {},
   "outputs": [],
   "source": [
    "# print(rf_tuned.best_score_)"
   ]
  },
  {
   "cell_type": "markdown",
   "id": "5933779c",
   "metadata": {},
   "source": [
    "RF Tuned Parameters"
   ]
  },
  {
   "cell_type": "code",
   "execution_count": 63,
   "id": "d8684b66",
   "metadata": {},
   "outputs": [],
   "source": [
    "# Create pipeline with tuned params\n",
    "rf_tuned = ImbPipeline([\n",
    "    ('preprocessor', preprocessor),\n",
    "    ('smote', SMOTE(random_state=42)),\n",
    "    ('model', RandomForestClassifier(\n",
    "        n_estimators= 100,\n",
    "        min_samples_split= 5,\n",
    "        min_samples_leaf= 2,\n",
    "        max_depth= 20,\n",
    "        criterion= 'gini',\n",
    "        class_weight= None\n",
    "    ))\n",
    "])\n",
    "\n",
    "# Fit to training data\n",
    "rf_tuned.fit(X_train, y_train)\n",
    "\n",
    "# Predict on test set\n",
    "y_pred_rf = rf_tuned.predict(X_test)"
   ]
  },
  {
   "cell_type": "code",
   "execution_count": 64,
   "id": "fc3892e8",
   "metadata": {},
   "outputs": [
    {
     "data": {
      "text/plain": [
       "0.7540808705857249"
      ]
     },
     "execution_count": 64,
     "metadata": {},
     "output_type": "execute_result"
    }
   ],
   "source": [
    "# Evaluate F2 score\n",
    "f2_rf_tuned = fbeta_score(y_test, y_pred_rf, beta=2)\n",
    "f2_rf_tuned"
   ]
  },
  {
   "cell_type": "markdown",
   "id": "a55227ac",
   "metadata": {},
   "source": [
    "# All F2 Score Summary"
   ]
  },
  {
   "cell_type": "code",
   "execution_count": 65,
   "id": "af7b038c",
   "metadata": {},
   "outputs": [
    {
     "name": "stdout",
     "output_type": "stream",
     "text": [
      "Top 3 Model (RobustScaled, SMOTE, Tuned):\n",
      "\n",
      "           Model  F2_scaled  F2_smote  F2_Tuned\n",
      "0  Random Forest   0.718046  0.755851  0.754081\n",
      "2       LightGBM   0.710159  0.757273  0.753368\n",
      "1        XGBoost   0.711441  0.757118  0.753314\n"
     ]
    }
   ],
   "source": [
    "# Collect results in a list of dictionaries\n",
    "model_scores_all3 = [\n",
    "    {'Model': 'Random Forest', \n",
    "     'F2_scaled':df_model_scores.loc[df_model_scores['Model'] == 'RF', 'F2 Score'].values[0],\n",
    "     'F2_smote':df_model_scores2.loc[df_model_scores2['Model'] == 'RF', 'F2 Score'].values[0], \n",
    "    #  'F2_Tuned': rf_tuned.best_score_}, #if running RandomizedSearch\n",
    "     'F2_Tuned': f2_rf_tuned},\n",
    "    {'Model': 'XGBoost', \n",
    "     'F2_scaled':df_model_scores.loc[df_model_scores['Model'] == 'XGB', 'F2 Score'].values[0],\n",
    "     'F2_smote':df_model_scores2.loc[df_model_scores2['Model'] == 'XGB', 'F2 Score'].values[0],\n",
    "    #  'F2_Tuned': xgb_tuned.best_score_}, #if running RandomizedSearch\n",
    "     'F2_Tuned': f2_xgb_tuned},\n",
    "    {'Model': 'LightGBM',\n",
    "     'F2_scaled':df_model_scores.loc[df_model_scores['Model'] == 'LGBM', 'F2 Score'].values[0],\n",
    "     'F2_smote':df_model_scores2.loc[df_model_scores2['Model'] == 'LGBM', 'F2 Score'].values[0],\n",
    "    #  'F2_Tuned': lgbm_tuned.best_score_}, #if running RandomizedSearch\n",
    "     'F2_Tuned': f2_lgbm_tuned}\n",
    "]\n",
    "\n",
    "# Convert to DataFrame\n",
    "df_best_scores_all3 = pd.DataFrame(model_scores_all3).sort_values(by='F2_Tuned', ascending=False)\n",
    "\n",
    "# Display\n",
    "print(\"Top 3 Model (RobustScaled, SMOTE, Tuned):\\n\")\n",
    "print(df_best_scores_all3)\n"
   ]
  },
  {
   "cell_type": "markdown",
   "id": "709aec4e",
   "metadata": {},
   "source": [
    "Although the F2 scores from the SMOTE pipeline and the tuned models differ only slightly (within ~0.003), **I choose to proceed with the tuned model results** because:\n",
    "- **Measurability:** Tuned models use explicitly defined hyperparameters, making performance reproducible and measurable across different runs or datasets.\n",
    "- **Repeatability:** By fixing the best parameters, the model’s behavior is stable and consistent, which is important for deployment or future updates.\n",
    "- **Optimization Confidence:** The tuned model reflects the best possible configuration discovered via cross-validation, ensuring the model is not just lucky on one specific split of data.\n",
    "\n",
    "While I choose more into **XGBoost** vs LightGBM because of its greater model stability, interpretation clarity, and deployment maturity. Suits best for reducing FN in booking cancellation risk.\n",
    "\n",
    "Thus, even with slightly lower raw F2, **the tuned model of XGBoost is more trustworthy for long-term use.**"
   ]
  },
  {
   "cell_type": "markdown",
   "id": "49196fbc",
   "metadata": {},
   "source": [
    "### Check ROC AUC"
   ]
  },
  {
   "cell_type": "code",
   "execution_count": 66,
   "id": "2a0f5627",
   "metadata": {},
   "outputs": [],
   "source": [
    "from sklearn.metrics import roc_auc_score\n",
    "\n",
    "# pipelines_sc_smote['rf'].fit(X_train, y_train)\n",
    "# pipelines_sc_smote['xgb'].fit(X_train, y_train)\n",
    "# pipelines_sc_smote['dt'].fit(X_train, y_train)\n",
    "\n",
    "# Predict probabilities for class 1 (canceled)\n",
    "y_proba_rf = rf_tuned.predict_proba(X_test)[:, 1]\n",
    "y_proba_xgb = xgb_tuned.predict_proba(X_test)[:, 1]\n",
    "y_proba_lgbm = lgbm_tuned.predict_proba(X_test)[:, 1]\n",
    "\n",
    "# Compute ROC AUC\n",
    "roc_auc_rf = roc_auc_score(y_test, y_proba_rf)\n",
    "roc_auc_xgb = roc_auc_score(y_test, y_proba_xgb)\n",
    "roc_auc_lgbm = roc_auc_score(y_test, y_proba_lgbm)"
   ]
  },
  {
   "cell_type": "code",
   "execution_count": 67,
   "id": "af88e90c",
   "metadata": {},
   "outputs": [
    {
     "name": "stdout",
     "output_type": "stream",
     "text": [
      "Top 3 ROC AUC Model (RobustScaled, SMOTE):\n",
      "\n",
      "           Model   ROC AUC\n",
      "2       LightGBM  0.888685\n",
      "0  Random Forest  0.888328\n",
      "1        XGBoost  0.888042\n"
     ]
    }
   ],
   "source": [
    "# Collect results in a list of dictionaries\n",
    "roc_auc_all3 = [\n",
    "    {'Model': 'Random Forest', \n",
    "     'ROC AUC':roc_auc_rf},\n",
    "    {'Model': 'XGBoost', \n",
    "     'ROC AUC':roc_auc_xgb},\n",
    "    {'Model': 'LightGBM',\n",
    "     'ROC AUC':roc_auc_lgbm}\n",
    "]\n",
    "\n",
    "# Convert to DataFrame\n",
    "df_roc_auc_all3 = pd.DataFrame(roc_auc_all3).sort_values(by='ROC AUC', ascending=False)\n",
    "\n",
    "# Display\n",
    "print(\"Top 3 ROC AUC Model (RobustScaled, SMOTE):\\n\")\n",
    "print(df_roc_auc_all3)\n"
   ]
  },
  {
   "cell_type": "markdown",
   "id": "a5848c23",
   "metadata": {},
   "source": [
    "### Check Recall via Confusion Matrix"
   ]
  },
  {
   "cell_type": "markdown",
   "id": "602019a2",
   "metadata": {},
   "source": [
    "##### Random Forest"
   ]
  },
  {
   "cell_type": "code",
   "execution_count": 68,
   "id": "3fbf6df0",
   "metadata": {},
   "outputs": [],
   "source": [
    "from sklearn.metrics import confusion_matrix, ConfusionMatrixDisplay, classification_report\n",
    "\n",
    "# Example for 'rf' model in your pipeline dict\n",
    "model_cm_rf = rf_tuned\n",
    "model_cm_rf.fit(X_train, y_train)  # make sure it's fitted\n",
    "\n",
    "y_pred_cm_rf = model_cm_rf.predict(X_test)"
   ]
  },
  {
   "cell_type": "code",
   "execution_count": 69,
   "id": "d20caf91",
   "metadata": {},
   "outputs": [
    {
     "name": "stdout",
     "output_type": "stream",
     "text": [
      "              precision    recall  f1-score   support\n",
      "\n",
      "Not Canceled       0.86      0.82      0.84     15839\n",
      "    Canceled       0.71      0.76      0.74      9233\n",
      "\n",
      "    accuracy                           0.80     25072\n",
      "   macro avg       0.78      0.79      0.79     25072\n",
      "weighted avg       0.80      0.80      0.80     25072\n",
      "\n"
     ]
    }
   ],
   "source": [
    "from sklearn.metrics import classification_report\n",
    "\n",
    "# Print report\n",
    "print(classification_report(y_test, y_pred_cm_rf, target_names=['Not Canceled', 'Canceled']))"
   ]
  },
  {
   "cell_type": "code",
   "execution_count": 70,
   "id": "ec20794c",
   "metadata": {},
   "outputs": [
    {
     "data": {
      "text/plain": [
       "<Figure size 400x300 with 0 Axes>"
      ]
     },
     "metadata": {},
     "output_type": "display_data"
    },
    {
     "data": {
      "image/png": "[encoded data removed]",
      "text/plain": [
       "<Figure size 640x480 with 2 Axes>"
      ]
     },
     "metadata": {},
     "output_type": "display_data"
    }
   ],
   "source": [
    "cm_nominal_rf = confusion_matrix(y_test, y_pred_cm_rf)\n",
    "disp_nominal_rf = ConfusionMatrixDisplay(confusion_matrix=cm_nominal_rf, display_labels=['Not Canceled', 'Canceled'])\n",
    "\n",
    "plt.figure(figsize=(4,3))\n",
    "disp_nominal_rf.plot(cmap='Blues', values_format='d')\n",
    "plt.title(\"Confusion Matrix Random Forest (Nominal)\")\n",
    "plt.show()\n"
   ]
  },
  {
   "cell_type": "code",
   "execution_count": 71,
   "id": "aeb802b7",
   "metadata": {},
   "outputs": [
    {
     "data": {
      "text/plain": [
       "<Figure size 400x300 with 0 Axes>"
      ]
     },
     "metadata": {},
     "output_type": "display_data"
    },
    {
     "data": {
      "image/png": "[encoded data removed]",
      "text/plain": [
       "<Figure size 640x480 with 2 Axes>"
      ]
     },
     "metadata": {},
     "output_type": "display_data"
    }
   ],
   "source": [
    "cm_normalized_rf = confusion_matrix(y_test, y_pred_cm_rf, normalize='true')\n",
    "disp_normalized_rf = ConfusionMatrixDisplay(confusion_matrix=cm_normalized_rf, display_labels=['Not Canceled', 'Canceled'])\n",
    "\n",
    "plt.figure(figsize=(4,3))\n",
    "disp_normalized_rf.plot(cmap='Greens', values_format='.2f')\n",
    "plt.title(\"Confusion Matrix Random Forest (Normalized)\")\n",
    "plt.show()\n"
   ]
  },
  {
   "cell_type": "markdown",
   "id": "4479b80d",
   "metadata": {},
   "source": [
    "#### XGBoost"
   ]
  },
  {
   "cell_type": "code",
   "execution_count": 72,
   "id": "1e445d7f",
   "metadata": {},
   "outputs": [],
   "source": [
    "model_cm_xgb = xgb_tuned\n",
    "model_cm_xgb.fit(X_train, y_train)  # make sure it's fitted\n",
    "\n",
    "y_pred_cm_xgb = model_cm_xgb.predict(X_test)"
   ]
  },
  {
   "cell_type": "code",
   "execution_count": 73,
   "id": "01cc8fd4",
   "metadata": {},
   "outputs": [
    {
     "name": "stdout",
     "output_type": "stream",
     "text": [
      "              precision    recall  f1-score   support\n",
      "\n",
      "Not Canceled       0.86      0.82      0.84     15839\n",
      "    Canceled       0.71      0.76      0.74      9233\n",
      "\n",
      "    accuracy                           0.80     25072\n",
      "   macro avg       0.78      0.79      0.79     25072\n",
      "weighted avg       0.80      0.80      0.80     25072\n",
      "\n"
     ]
    }
   ],
   "source": [
    "print(classification_report(y_test, y_pred_cm_xgb, target_names=['Not Canceled', 'Canceled']))"
   ]
  },
  {
   "cell_type": "code",
   "execution_count": 74,
   "id": "6309f5f4",
   "metadata": {},
   "outputs": [
    {
     "data": {
      "text/plain": [
       "<Figure size 400x300 with 0 Axes>"
      ]
     },
     "metadata": {},
     "output_type": "display_data"
    },
    {
     "data": {
      "image/png": "[encoded data removed]",
      "text/plain": [
       "<Figure size 640x480 with 2 Axes>"
      ]
     },
     "metadata": {},
     "output_type": "display_data"
    }
   ],
   "source": [
    "cm_nominal_xgb = confusion_matrix(y_test, y_pred_cm_xgb)\n",
    "disp_nominal_xgb = ConfusionMatrixDisplay(confusion_matrix=cm_nominal_xgb, display_labels=['Not Canceled', 'Canceled'])\n",
    "\n",
    "plt.figure(figsize=(4,3))\n",
    "disp_nominal_xgb.plot(cmap='Blues', values_format='d')\n",
    "plt.title(\"Confusion Matrix XGBoost (Nominal)\")\n",
    "plt.show()\n"
   ]
  },
  {
   "cell_type": "code",
   "execution_count": 75,
   "id": "473b6046",
   "metadata": {},
   "outputs": [
    {
     "data": {
      "text/plain": [
       "<Figure size 400x300 with 0 Axes>"
      ]
     },
     "metadata": {},
     "output_type": "display_data"
    },
    {
     "data": {
      "image/png": "[encoded data removed]",
      "text/plain": [
       "<Figure size 640x480 with 2 Axes>"
      ]
     },
     "metadata": {},
     "output_type": "display_data"
    }
   ],
   "source": [
    "cm_normalized_xgb = confusion_matrix(y_test, y_pred_cm_xgb, normalize='true')\n",
    "disp_normalized_xgb = ConfusionMatrixDisplay(confusion_matrix=cm_normalized_xgb, display_labels=['Not Canceled', 'Canceled'])\n",
    "\n",
    "plt.figure(figsize=(4,3))\n",
    "disp_normalized_xgb.plot(cmap='Greens', values_format='.2f')\n",
    "plt.title(\"Confusion Matrix XGBoost (Normalized)\")\n",
    "plt.show()\n"
   ]
  },
  {
   "cell_type": "markdown",
   "id": "43159c0f",
   "metadata": {},
   "source": [
    "#### LightGBM"
   ]
  },
  {
   "cell_type": "code",
   "execution_count": 76,
   "id": "0526047d",
   "metadata": {},
   "outputs": [
    {
     "name": "stdout",
     "output_type": "stream",
     "text": [
      "[LightGBM] [Info] Number of positive: 36956, number of negative: 36956\n",
      "[LightGBM] [Info] Auto-choosing row-wise multi-threading, the overhead of testing was 0.006177 seconds.\n",
      "You can set `force_row_wise=true` to remove the overhead.\n",
      "And if memory is not enough, you can set `force_col_wise=true`.\n",
      "[LightGBM] [Info] Total Bins 430\n",
      "[LightGBM] [Info] Number of data points in the train set: 73912, number of used features: 23\n",
      "[LightGBM] [Info] [binary:BoostFromScore]: pavg=0.500000 -> initscore=0.000000\n",
      "[LightGBM] [Warning] No further splits with positive gain, best gain: -inf\n",
      "[LightGBM] [Warning] No further splits with positive gain, best gain: -inf\n",
      "[LightGBM] [Warning] No further splits with positive gain, best gain: -inf\n",
      "[LightGBM] [Warning] No further splits with positive gain, best gain: -inf\n",
      "[LightGBM] [Warning] No further splits with positive gain, best gain: -inf\n",
      "[LightGBM] [Warning] No further splits with positive gain, best gain: -inf\n",
      "[LightGBM] [Warning] No further splits with positive gain, best gain: -inf\n",
      "[LightGBM] [Warning] No further splits with positive gain, best gain: -inf\n",
      "[LightGBM] [Warning] No further splits with positive gain, best gain: -inf\n",
      "[LightGBM] [Warning] No further splits with positive gain, best gain: -inf\n",
      "[LightGBM] [Warning] No further splits with positive gain, best gain: -inf\n",
      "[LightGBM] [Warning] No further splits with positive gain, best gain: -inf\n",
      "[LightGBM] [Warning] No further splits with positive gain, best gain: -inf\n",
      "[LightGBM] [Warning] No further splits with positive gain, best gain: -inf\n",
      "[LightGBM] [Warning] No further splits with positive gain, best gain: -inf\n",
      "[LightGBM] [Warning] No further splits with positive gain, best gain: -inf\n",
      "[LightGBM] [Warning] No further splits with positive gain, best gain: -inf\n",
      "[LightGBM] [Warning] No further splits with positive gain, best gain: -inf\n",
      "[LightGBM] [Warning] No further splits with positive gain, best gain: -inf\n",
      "[LightGBM] [Warning] No further splits with positive gain, best gain: -inf\n",
      "[LightGBM] [Warning] No further splits with positive gain, best gain: -inf\n",
      "[LightGBM] [Warning] No further splits with positive gain, best gain: -inf\n",
      "[LightGBM] [Warning] No further splits with positive gain, best gain: -inf\n",
      "[LightGBM] [Warning] No further splits with positive gain, best gain: -inf\n",
      "[LightGBM] [Warning] No further splits with positive gain, best gain: -inf\n",
      "[LightGBM] [Warning] No further splits with positive gain, best gain: -inf\n",
      "[LightGBM] [Warning] No further splits with positive gain, best gain: -inf\n",
      "[LightGBM] [Warning] No further splits with positive gain, best gain: -inf\n",
      "[LightGBM] [Warning] No further splits with positive gain, best gain: -inf\n",
      "[LightGBM] [Warning] No further splits with positive gain, best gain: -inf\n",
      "[LightGBM] [Warning] No further splits with positive gain, best gain: -inf\n",
      "[LightGBM] [Warning] No further splits with positive gain, best gain: -inf\n",
      "[LightGBM] [Warning] No further splits with positive gain, best gain: -inf\n",
      "[LightGBM] [Warning] No further splits with positive gain, best gain: -inf\n",
      "[LightGBM] [Warning] No further splits with positive gain, best gain: -inf\n",
      "[LightGBM] [Warning] No further splits with positive gain, best gain: -inf\n",
      "[LightGBM] [Warning] No further splits with positive gain, best gain: -inf\n",
      "[LightGBM] [Warning] No further splits with positive gain, best gain: -inf\n",
      "[LightGBM] [Warning] No further splits with positive gain, best gain: -inf\n",
      "[LightGBM] [Warning] No further splits with positive gain, best gain: -inf\n",
      "[LightGBM] [Warning] No further splits with positive gain, best gain: -inf\n",
      "[LightGBM] [Warning] No further splits with positive gain, best gain: -inf\n",
      "[LightGBM] [Warning] No further splits with positive gain, best gain: -inf\n",
      "[LightGBM] [Warning] No further splits with positive gain, best gain: -inf\n",
      "[LightGBM] [Warning] No further splits with positive gain, best gain: -inf\n",
      "[LightGBM] [Warning] No further splits with positive gain, best gain: -inf\n",
      "[LightGBM] [Warning] No further splits with positive gain, best gain: -inf\n",
      "[LightGBM] [Warning] No further splits with positive gain, best gain: -inf\n",
      "[LightGBM] [Warning] No further splits with positive gain, best gain: -inf\n",
      "[LightGBM] [Warning] No further splits with positive gain, best gain: -inf\n",
      "[LightGBM] [Warning] No further splits with positive gain, best gain: -inf\n",
      "[LightGBM] [Warning] No further splits with positive gain, best gain: -inf\n",
      "[LightGBM] [Warning] No further splits with positive gain, best gain: -inf\n",
      "[LightGBM] [Warning] No further splits with positive gain, best gain: -inf\n",
      "[LightGBM] [Warning] No further splits with positive gain, best gain: -inf\n",
      "[LightGBM] [Warning] No further splits with positive gain, best gain: -inf\n",
      "[LightGBM] [Warning] No further splits with positive gain, best gain: -inf\n",
      "[LightGBM] [Warning] No further splits with positive gain, best gain: -inf\n",
      "[LightGBM] [Warning] No further splits with positive gain, best gain: -inf\n",
      "[LightGBM] [Warning] No further splits with positive gain, best gain: -inf\n",
      "[LightGBM] [Warning] No further splits with positive gain, best gain: -inf\n",
      "[LightGBM] [Warning] No further splits with positive gain, best gain: -inf\n",
      "[LightGBM] [Warning] No further splits with positive gain, best gain: -inf\n",
      "[LightGBM] [Warning] No further splits with positive gain, best gain: -inf\n",
      "[LightGBM] [Warning] No further splits with positive gain, best gain: -inf\n",
      "[LightGBM] [Warning] No further splits with positive gain, best gain: -inf\n",
      "[LightGBM] [Warning] No further splits with positive gain, best gain: -inf\n",
      "[LightGBM] [Warning] No further splits with positive gain, best gain: -inf\n",
      "[LightGBM] [Warning] No further splits with positive gain, best gain: -inf\n",
      "[LightGBM] [Warning] No further splits with positive gain, best gain: -inf\n",
      "[LightGBM] [Warning] No further splits with positive gain, best gain: -inf\n",
      "[LightGBM] [Warning] No further splits with positive gain, best gain: -inf\n",
      "[LightGBM] [Warning] No further splits with positive gain, best gain: -inf\n",
      "[LightGBM] [Warning] No further splits with positive gain, best gain: -inf\n",
      "[LightGBM] [Warning] No further splits with positive gain, best gain: -inf\n",
      "[LightGBM] [Warning] No further splits with positive gain, best gain: -inf\n",
      "[LightGBM] [Warning] No further splits with positive gain, best gain: -inf\n",
      "[LightGBM] [Warning] No further splits with positive gain, best gain: -inf\n",
      "[LightGBM] [Warning] No further splits with positive gain, best gain: -inf\n",
      "[LightGBM] [Warning] No further splits with positive gain, best gain: -inf\n",
      "[LightGBM] [Warning] No further splits with positive gain, best gain: -inf\n",
      "[LightGBM] [Warning] No further splits with positive gain, best gain: -inf\n",
      "[LightGBM] [Warning] No further splits with positive gain, best gain: -inf\n",
      "[LightGBM] [Warning] No further splits with positive gain, best gain: -inf\n",
      "[LightGBM] [Warning] No further splits with positive gain, best gain: -inf\n",
      "[LightGBM] [Warning] No further splits with positive gain, best gain: -inf\n",
      "[LightGBM] [Warning] No further splits with positive gain, best gain: -inf\n",
      "[LightGBM] [Warning] No further splits with positive gain, best gain: -inf\n",
      "[LightGBM] [Warning] No further splits with positive gain, best gain: -inf\n",
      "[LightGBM] [Warning] No further splits with positive gain, best gain: -inf\n",
      "[LightGBM] [Warning] No further splits with positive gain, best gain: -inf\n",
      "[LightGBM] [Warning] No further splits with positive gain, best gain: -inf\n",
      "[LightGBM] [Warning] No further splits with positive gain, best gain: -inf\n",
      "[LightGBM] [Warning] No further splits with positive gain, best gain: -inf\n",
      "[LightGBM] [Warning] No further splits with positive gain, best gain: -inf\n"
     ]
    }
   ],
   "source": [
    "model_cm_lgbm = lgbm_tuned\n",
    "model_cm_lgbm.fit(X_train, y_train)  # make sure it's fitted\n",
    "\n",
    "y_pred_cm_lgbm = model_cm_lgbm.predict(X_test)"
   ]
  },
  {
   "cell_type": "code",
   "execution_count": 77,
   "id": "b12d569d",
   "metadata": {},
   "outputs": [
    {
     "name": "stdout",
     "output_type": "stream",
     "text": [
      "              precision    recall  f1-score   support\n",
      "\n",
      "Not Canceled       0.86      0.82      0.84     15839\n",
      "    Canceled       0.71      0.76      0.74      9233\n",
      "\n",
      "    accuracy                           0.80     25072\n",
      "   macro avg       0.78      0.79      0.79     25072\n",
      "weighted avg       0.80      0.80      0.80     25072\n",
      "\n"
     ]
    }
   ],
   "source": [
    "print(classification_report(y_test, y_pred_cm_lgbm, target_names=['Not Canceled', 'Canceled']))"
   ]
  },
  {
   "cell_type": "code",
   "execution_count": 78,
   "id": "02c887ed",
   "metadata": {},
   "outputs": [
    {
     "data": {
      "text/plain": [
       "<Figure size 500x400 with 0 Axes>"
      ]
     },
     "metadata": {},
     "output_type": "display_data"
    },
    {
     "data": {
      "image/png": "[encoded data removed]",
      "text/plain": [
       "<Figure size 640x480 with 2 Axes>"
      ]
     },
     "metadata": {},
     "output_type": "display_data"
    }
   ],
   "source": [
    "cm_nominal_dt = confusion_matrix(y_test, y_pred_cm_lgbm)\n",
    "disp_nominal_dt = ConfusionMatrixDisplay(confusion_matrix=cm_nominal_dt, display_labels=['Not Canceled', 'Canceled'])\n",
    "\n",
    "plt.figure(figsize=(5, 4))\n",
    "disp_nominal_dt.plot(cmap='Blues', values_format='d')\n",
    "plt.title(\"Confusion Matrix Decision Tree (Nominal)\")\n",
    "plt.show()\n"
   ]
  },
  {
   "cell_type": "code",
   "execution_count": 79,
   "id": "0f12cd87",
   "metadata": {},
   "outputs": [
    {
     "data": {
      "text/plain": [
       "<Figure size 500x400 with 0 Axes>"
      ]
     },
     "metadata": {},
     "output_type": "display_data"
    },
    {
     "data": {
      "image/png": "[encoded data removed]",
      "text/plain": [
       "<Figure size 640x480 with 2 Axes>"
      ]
     },
     "metadata": {},
     "output_type": "display_data"
    }
   ],
   "source": [
    "cm_normalized_dt = confusion_matrix(y_test, y_pred_cm_lgbm, normalize='true')\n",
    "disp_normalized_dt = ConfusionMatrixDisplay(confusion_matrix=cm_normalized_dt, display_labels=['Not Canceled', 'Canceled'])\n",
    "\n",
    "plt.figure(figsize=(5, 4))\n",
    "disp_normalized_dt.plot(cmap='Greens', values_format='.2f')\n",
    "plt.title(\"Confusion Matrix Decision Tree (Normalized)\")\n",
    "plt.show()\n"
   ]
  },
  {
   "cell_type": "markdown",
   "id": "d15607f3",
   "metadata": {},
   "source": [
    "# Model Summary"
   ]
  },
  {
   "cell_type": "code",
   "execution_count": 80,
   "id": "ff6789df",
   "metadata": {},
   "outputs": [
    {
     "name": "stdout",
     "output_type": "stream",
     "text": [
      "Top 3 Model (RobustScaled, SMOTE, Tuned), ROC AUC, and Recall:\n",
      "\n",
      "           Model  F2 score   ROC AUC    Recall\n",
      "0  Random Forest  0.754081  0.888328  0.761724\n",
      "2       LightGBM  0.753368  0.888685  0.764432\n",
      "1        XGBoost  0.753314  0.888042  0.764540\n"
     ]
    }
   ],
   "source": [
    "from sklearn.metrics import recall_score\n",
    "\n",
    "recall_rf = recall_score(y_test, y_pred_cm_rf)\n",
    "recall_xgb = recall_score(y_test, y_pred_cm_xgb)\n",
    "recall_dt = recall_score(y_test, y_pred_cm_lgbm)\n",
    "\n",
    "model_summary_all3 = [\n",
    "    {'Model': 'Random Forest', \n",
    "     'F2 score':f2_rf_tuned, \n",
    "     'ROC AUC': roc_auc_rf,\n",
    "     'Recall': recall_rf},\n",
    "    {'Model': 'XGBoost', \n",
    "     'F2 score':f2_xgb_tuned,\n",
    "     'ROC AUC': roc_auc_xgb,\n",
    "     'Recall': recall_xgb\n",
    "     },\n",
    "    {'Model': 'LightGBM',\n",
    "     'F2 score':f2_lgbm_tuned,\n",
    "     'ROC AUC': roc_auc_lgbm,\n",
    "     'Recall': recall_dt\n",
    "     }\n",
    "]\n",
    "\n",
    "# Convert to DataFrame\n",
    "df_model_summary_all3 = pd.DataFrame(model_summary_all3).sort_values(by='F2 score', ascending=False)\n",
    "\n",
    "# Display\n",
    "print(\"Top 3 Model (RobustScaled, SMOTE, Tuned), ROC AUC, and Recall:\\n\")\n",
    "print(df_model_summary_all3)\n"
   ]
  },
  {
   "cell_type": "markdown",
   "id": "b6a0775c",
   "metadata": {},
   "source": [
    "Even though F2 is slightly lower than LightGBM, recall is marginally better, and **XGBoost** offers greater model stability, interpretation clarity, and deployment maturity, making it a safer and more robust choice for real-world implementation, especially when avoiding false negatives (FN) is critical."
   ]
  },
  {
   "cell_type": "markdown",
   "id": "f2ce1187",
   "metadata": {},
   "source": [
    "# Feature Importance"
   ]
  },
  {
   "cell_type": "code",
   "execution_count": 81,
   "id": "a03c41ea",
   "metadata": {},
   "outputs": [
    {
     "data": {
      "image/png": "[encoded data removed]",
      "text/plain": [
       "<Figure size 800x500 with 1 Axes>"
      ]
     },
     "metadata": {},
     "output_type": "display_data"
    }
   ],
   "source": [
    "final_model = xgb_tuned\n",
    "\n",
    "# Access preprocessor from the trained pipeline\n",
    "preprocessor = final_model.named_steps['preprocessor']\n",
    "\n",
    "# Get feature names from each transformer\n",
    "ohe_features = preprocessor.named_transformers_['cat'].get_feature_names_out(categorical_cols)\n",
    "ord_features = categorical_cols_ord\n",
    "num_features = numeric_cols\n",
    "\n",
    "# Combine all features in the correct order\n",
    "all_features = list(ohe_features) + ord_features + num_features\n",
    "\n",
    "# Check length matches feature importances\n",
    "importances = final_model.named_steps['model'].feature_importances_\n",
    "assert len(all_features) == len(importances), \"Feature count mismatch!\"\n",
    "\n",
    "# Create DataFrame\n",
    "fi_df = pd.DataFrame({'Feature': all_features, 'Importance': importances})\n",
    "fi_df = fi_df.sort_values(by='Importance', ascending=False)\n",
    "\n",
    "# Plot Top 10\n",
    "plt.figure(figsize=(8, 5))\n",
    "sns.barplot(data=fi_df.head(10), x='Importance', y='Feature', palette='viridis')\n",
    "plt.title('Top 10 Feature Importances (XGBoost)')\n",
    "plt.tight_layout()\n",
    "plt.show()\n"
   ]
  },
  {
   "cell_type": "code",
   "execution_count": 82,
   "id": "296ee6ed",
   "metadata": {},
   "outputs": [
    {
     "data": {
      "image/png": "[encoded data removed]",
      "text/plain": [
       "<Figure size 800x500 with 1 Axes>"
      ]
     },
     "metadata": {},
     "output_type": "display_data"
    }
   ],
   "source": [
    "fi_df = fi_df.sort_values(by='Importance', ascending=True)\n",
    "\n",
    "# Plot Top 10\n",
    "plt.figure(figsize=(8, 5))\n",
    "sns.barplot(data=fi_df.head(10), x='Importance', y='Feature', palette='viridis')\n",
    "plt.title('Top 10 Feature Importances (XGBoost)')\n",
    "plt.tight_layout()\n",
    "plt.show()"
   ]
  },
  {
   "cell_type": "markdown",
   "id": "28ae370d",
   "metadata": {},
   "source": [
    "According to the XGBoost model using RobustScaler and SMOTE, the top 3 factors linked to booking cancellations are:\n",
    "1. deposit_type_Non Refund (Non-refundable deposit)\n",
    "2. required_car_parking_spaces (Requested a car parking space)\n",
    "3. country_Portugal (Guest is from Portugal)\n",
    "\n",
    "On the other hand, the 3 least likely factors associated with cancellations are:\n",
    "1. deposit_type_No Deposit (No deposit required)\n",
    "2. market_segment_Complementary (free stay)\n",
    "3. country_No Portugal (Guest is not from Portugal)"
   ]
  },
  {
   "cell_type": "markdown",
   "id": "d601fd4f",
   "metadata": {},
   "source": [
    "# Save it to Pickle"
   ]
  },
  {
   "cell_type": "code",
   "execution_count": 83,
   "id": "15e42214",
   "metadata": {},
   "outputs": [],
   "source": [
    "# # Save the entire pipeline\n",
    "# import pickle\n",
    "# with open('XGB_Tuned_pipeline.pkl', 'wb') as f:\n",
    "#     pickle.dump(xgb_tuned, f)"
   ]
  },
  {
   "cell_type": "markdown",
   "id": "a5a08cc8",
   "metadata": {},
   "source": [
    "# Model Implementation\n",
    "\n",
    "### Cost and Business Context\n",
    "\n"
   ]
  },
  {
   "cell_type": "markdown",
   "id": "e447f1ff",
   "metadata": {},
   "source": [
    "**Target Stakeholders:** Hotel owners and management teams  \n",
    "\n",
    "**When to Use:** This model is designed for times when hotel management needs to plan overbooking strategies, especially during **peak seasons, holidays, or specific dates** that require careful **cost and cancellation prediction**.\n"
   ]
  },
  {
   "cell_type": "markdown",
   "id": "0e297d35",
   "metadata": {},
   "source": [
    "Assumptions and Model Impact Analysis\n",
    "\n",
    "To evaluate the impact of having or not having a booking cancellation prediction model, we compare three scenarios using the defined cost structure:\n",
    "\n",
    "**Cost Assumptions per Booking:**\n",
    "\n",
    "- True Book (Predicted Book, Actual Book): +150 USD\n",
    "- False Book (Predicted Book, Actual Cancel): –50 USD\n",
    "- False Cancel (Predicted Cancel, Actual Book): –200 USD\n",
    "- True Cancel (Predicted Cancel, Actual Cancel): +100 USD\n",
    "\n",
    "**Scenario 1 – Worst Case**\n",
    "- Assumption: 200 actual bookings, model predicts 100 book / 100 cancel\n",
    "\n",
    "| | Predicted Book | Predicted Cancel | \n",
    "|---|---|---|\n",
    "| Actual Book | 100 × 150 USD | 100 × (–200 USD) | \n",
    "| Actual Cancel | 0 × (–50 USD) | 0 × 100 USD | \n",
    "\n",
    "Estimated income:\n",
    "\n",
    "= (100 × 150) – (100 × 200)\n",
    "= 15,000 – 20,000\n",
    "= –5,000 USD\n",
    "\n",
    "**Scenario 2 – Ideal Case**\n",
    "\n",
    "- Assumption: 100 actual book, 100 actual cancel; prediction matches perfectly\n",
    "\n",
    "|  | Predicted Book | Predicted Cancel | \n",
    "|---|---|---|\n",
    "| Actual Book | 100 × 150 USD | 0 × (–200 USD) | \n",
    "| Actual Cancel | 0 × (–50 USD) | 100 × 100 USD | \n",
    "\n",
    "\n",
    "Estimated income:\n",
    "\n",
    "= (100 × 150) + (100 × 100)\n",
    "= 15,000 + 10,000\n",
    "= 25,000 USD\n",
    "\n",
    "**Scenario 3 – Based on Your Model**\n",
    "\n",
    "|  | Predicted Book | Predicted Cancel | \n",
    "|---|---|---|\n",
    "| Actual Book | 82 × 150 USD | 18 × (–200 USD) | \n",
    "| Actual Cancel | 23 × (–50 USD) | 77 × 100 USD | \n",
    "\n",
    "Estimated income:\n",
    "\n",
    "= (82 × 150) – (18 × 200) – (23 × 50) + (77 × 100)\n",
    "\n",
    "= 12,300 – 3,600 – 1,150 + 7,700\n",
    "= 15,250 USD\n",
    "\n",
    "**Recall Balance Sensitivity – Scenario A**\n",
    "\n",
    "Recall 0 = 83, Recall 1 = 76\n",
    "\n",
    "Income = (83 × 150) – (17 × 200) – (22 × 50) + (76 × 100)\n",
    "\n",
    "= 12,450 – 3,400 – 1,100 + 7,600\n",
    "= 15,550 USD\n",
    "\n",
    "**Recall Balance Sensitivity – Scenario B (Extreme)**\n",
    "\n",
    "Recall 0 = 100, Recall 1 = 59\n",
    "\n",
    "Income = (100 × 150) – (0 × 200) – (41 × 50) + (59 × 100)\n",
    "\n",
    "= 15,000 – 0 – 2,050 + 5,900\n",
    "= 18,850 USD\n",
    "\n",
    "**Insight**\n",
    "\n",
    "Maximizing recall for non-cancellations (class 0) significantly boosts income. Despite our original goal of detecting cancellations, this result aligns with research suggesting that lost revenue from vacant rooms is often higher than losses from overbooking. So, this model needs to balance financial gain with its predictive purpose.\n"
   ]
  },
  {
   "cell_type": "markdown",
   "id": "427d46c5",
   "metadata": {},
   "source": [
    "# Conclusion\n",
    "\n",
    "The model used is **XGBoost combined with RobustScaler and SMOTE resampling.** The XGBoost classifier was fine-tuned with the following parameters:\n",
    "\n",
    "XGBClassifier(\n",
    "- 'xgb__subsample': 0.6,\n",
    "- 'xgb__n_estimators': 200,\n",
    "- 'xgb__min_child_weight': 5,\n",
    "- 'xgb__max_depth': 5,\n",
    "- 'xgb__learning_rate': 0.1,\n",
    "- 'xgb__gamma': 1,\n",
    "- 'xgb__colsample_bytree': 1.0)\n",
    "\n",
    "**Model Performance**\n",
    "\n",
    "- Precision = 0.71, the model correctly identifies 71% of the bookings it predicts as canceled.\n",
    "- Recall = 0.77, out of 100 actual cancellations, the model successfully detects 77 of them.\n",
    "- False Positive Rate = 22%, that 22% of actual cancellations were missed (predicted as not canceled).\n",
    "- False Negative Rate = 19%, that 19% of bookings predicted as cancellations were actually not canceled.\n",
    "\n",
    "**Model Limitation**\n",
    "\n",
    "While the model gives relatively strong predictions, interpretability is a challenge due to the nature of ensemble methods. Hyperparameter tuning also took a long time and gave only minor performance improvement. This can be improved by using randomized search or reducing the parameter search space.\n",
    "\n",
    "**Note on Imbalanced Data**\n",
    "\n",
    "For imbalanced datasets, it's important to apply stratified sampling during train-test splitting and cross-validation. Avoid using accuracy as a performance metric, as it can be misleading in such cases.\n"
   ]
  },
  {
   "cell_type": "markdown",
   "id": "829f4b29",
   "metadata": {},
   "source": [
    "# Further Analysis & Recommendation\n",
    "\n",
    "Recommendations to Improve Model Performance and Project Exploration\n",
    "1. Expand and Balance the Dataset\n",
    "\n",
    "Especially in cases with imbalanced targets, it would be beneficial to collect more canceled booking data so it’s more balanced with non-cancelled bookings.\n",
    "\n",
    "2. Add Potentially Useful Features\n",
    "\n",
    "Public datasets on Kaggle include additional features not present in the current dataset—like Average Daily Rate (ADR), number of days between booking and arrival, or even date-related features that could be used for time-series cancellation prediction.\n",
    "\n",
    "3. Experiment with Different Combinations\n",
    "\n",
    "Explore various setups involving feature selection, engineering, resampling, and modeling:\n",
    "   - Try RFE (Recursive Feature Elimination) for feature selection\n",
    "   - Perform feature engineering beyond the country column\n",
    "   - Use different resampling methods like ADASYN or SMOTE variants\n",
    "   - Test different models, such as Naive Bayes or CatBoost\n",
    "\n",
    "4. Refine Business Impact Calculations\n",
    "\n",
    "Evaluate the cost difference between vacant rooms and overbookings more thoroughly. So far, results suggest it's more cost-effective to penalize missed bookings (empty rooms) than to focus solely on overbook prevention—supporting the strategy of predicting cancellations to reduce vacancy loss.\n"
   ]
  }
 ],
 "metadata": {
  "kernelspec": {
   "display_name": "Python 3",
   "language": "python",
   "name": "python3"
  },
  "language_info": {
   "codemirror_mode": {
    "name": "ipython",
    "version": 3
   },
   "file_extension": ".py",
   "mimetype": "text/x-python",
   "name": "python",
   "nbconvert_exporter": "python",
   "pygments_lexer": "ipython3",
   "version": "3.10.6"
  }
 },
 "nbformat": 4,
 "nbformat_minor": 5
}
